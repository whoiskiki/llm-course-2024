{
 "cells": [
  {
   "cell_type": "markdown",
   "metadata": {
    "id": "NvhPa7a59AIG"
   },
   "source": [
    "<font color=red>**Danger zone:**</font> you'll be fine-tuning a model to generate positive, negative or even toxic reviews. We'll be doing this for fun, but this is also the technique for [review bombing](https://en.wikipedia.org/wiki/Review_bomb), bot farms on social media and other less than dignified stuff. It is ultimately your decision how you apply this knowledge, but before you choose, ask yourself: is this why you chose to learn ML?\n",
    "\n",
    "\n",
    "# LLMs Alignment with Reinforcement Learning from human feedback (RLHF).\n",
    "\n"
   ]
  },
  {
   "cell_type": "markdown",
   "metadata": {
    "id": "bgfL4bSSAXan"
   },
   "source": [
    "In this homework, you're gonna fine-tune a language model with reinforcement learning to make it generat bad (or good) reviews.\n",
    "\n",
    "To perform RL-based fine-tuning, we'll use a new (in this course) library called [Transformer Reinforcement Learning (TRL)](https://huggingface.co/docs/trl). TRL implements the main reinforcement learning components of RLHF: reward modeling and fine-tuning with PPO.\n",
    "\n",
    "![img](https://huggingface.co/datasets/trl-internal-testing/example-images/resolve/main/images/TRL-readme.png)"
   ]
  },
  {
   "cell_type": "markdown",
   "metadata": {
    "id": "8cJfrTbFYAx8"
   },
   "source": [
    "## Stage 0: load model\n",
    "\n",
    "To see how TRL works, we'll use it to align GPT2 on IMDB dataset to generate negative movie reviews. In fact, __it's your choice whether you want positive or negative reviews__, however I recommend you to focus on negative ones, in order to see greater effect after RLHF\n",
    "\n",
    "But before you choose, let's take a look at the baseline model: a GPT-2 fine-tuned on generating arbitrary movie reviews."
   ]
  },
  {
   "cell_type": "code",
   "execution_count": 2,
   "metadata": {
    "colab": {
     "base_uri": "https://localhost:8080/"
    },
    "id": "pHs22MXdPify",
    "outputId": "a95af581-560b-4845-e202-a84150940196"
   },
   "outputs": [
    {
     "name": "stderr",
     "output_type": "stream",
     "text": [
      "/home/eliseevan/venv-hw-05/lib/python3.10/site-packages/huggingface_hub/file_download.py:797: FutureWarning: `resume_download` is deprecated and will be removed in version 1.0.0. Downloads always resume when possible. If you want to force a new download, use `force_download=True`.\n",
      "  warnings.warn(\n",
      "/home/eliseevan/venv-hw-05/lib/python3.10/site-packages/transformers/utils/generic.py:311: FutureWarning: `torch.utils._pytree._register_pytree_node` is deprecated. Please use `torch.utils._pytree.register_pytree_node` instead.\n",
      "  torch.utils._pytree._register_pytree_node(\n",
      "/home/eliseevan/venv-hw-05/lib/python3.10/site-packages/transformers/modeling_utils.py:488: FutureWarning: You are using `torch.load` with `weights_only=False` (the current default value), which uses the default pickle module implicitly. It is possible to construct malicious pickle data which will execute arbitrary code during unpickling (See https://github.com/pytorch/pytorch/blob/main/SECURITY.md#untrusted-models for more details). In a future release, the default value for `weights_only` will be flipped to `True`. This limits the functions that could be executed during unpickling. Arbitrary objects will no longer be allowed to be loaded via this mode unless they are explicitly allowlisted by the user via `torch.serialization.add_safe_globals`. We recommend you start setting `weights_only=True` for any use case where you don't have full control of the loaded file. Please open an issue on GitHub for any issues related to this experimental feature.\n",
      "  return torch.load(checkpoint_file, map_location=map_location)\n"
     ]
    }
   ],
   "source": [
    "import torch\n",
    "import transformers\n",
    "import datasets\n",
    "import trl\n",
    "\n",
    "device = torch.device('cuda' if torch.cuda.is_available() else 'cpu')\n",
    "main_tokenizer = transformers.AutoTokenizer.from_pretrained(\"lvwerra/gpt2-imdb\")\n",
    "main_model = transformers.AutoModelForCausalLM.from_pretrained(\"lvwerra/gpt2-imdb\", device_map=device)"
   ]
  },
  {
   "cell_type": "code",
   "execution_count": 3,
   "metadata": {
    "colab": {
     "base_uri": "https://localhost:8080/"
    },
    "id": "KE3jo7uhQrvK",
    "outputId": "b937058f-6014-4180-f5e5-b09ed4a2285a"
   },
   "outputs": [
    {
     "name": "stderr",
     "output_type": "stream",
     "text": [
      "Setting `pad_token_id` to `eos_token_id`:50256 for open-end generation.\n"
     ]
    },
    {
     "name": "stdout",
     "output_type": "stream",
     "text": [
      "\n",
      "Generated text: The movie could be considered a real cult classic when it is not being widely distributed in the country, but I recommend it for anyone that enjoys the genre, or someone not connected to the genre but who also enjoys watching horror movies with a sense of humor.<|endoftext|>\n"
     ]
    }
   ],
   "source": [
    "inputs = main_tokenizer(\"The movie\", return_tensors='pt').to(device)\n",
    "generated_ids = main_model.generate(**inputs, max_new_tokens=50, do_sample=True)\n",
    "print(\"\\nGenerated text:\", main_tokenizer.decode(generated_ids.flatten().cpu().numpy().tolist()))"
   ]
  },
  {
   "cell_type": "markdown",
   "metadata": {
    "id": "dJbfhMEpR4Sz"
   },
   "source": [
    "If you run this cell a couple of times, you'll see that the model generates both positive, negative and neutral reviews in some proportion. What we're gonna do next is teach the model to generate more positive (or negative) reviews.\n",
    "\n",
    "Similarly to InstructGPT, we're gonna do that in 2 stages:\n",
    "- **train a reward model** to assign higher values to positive (or negative) reviews\n",
    "- fine-tune the language model to **maximize that reward using [proximal policy optimization](https://openai.com/research/openai-baselines-ppo)**\n",
    "\n"
   ]
  },
  {
   "cell_type": "markdown",
   "metadata": {
    "id": "Bcv4uC7xb26Z"
   },
   "source": [
    "## Stage 1: train a reward model\n",
    "\n",
    "First, we'll train a BERT-like model as our reward model. We'll generate a synthetic pairwise rankings to emulate human rankings.\n",
    "\n",
    "__Q:__ why do I need a reward model? Can I just use a pre-trained sentiment classifier? <br> __A:__ Yes, you can - but that only works for movie reviews. But this homework will teach you how to do RLHF for any kind objective.\n",
    "\n"
   ]
  },
  {
   "cell_type": "code",
   "execution_count": 4,
   "metadata": {
    "colab": {
     "base_uri": "https://localhost:8080/"
    },
    "id": "WeOdZ_ayc9dy",
    "outputId": "3813d14b-d113-4154-a237-04bf3d5bbbe5"
   },
   "outputs": [
    {
     "name": "stderr",
     "output_type": "stream",
     "text": [
      "Some weights of DistilBertForSequenceClassification were not initialized from the model checkpoint at distilbert-base-cased and are newly initialized: ['classifier.bias', 'pre_classifier.weight', 'classifier.weight', 'pre_classifier.bias']\n",
      "You should probably TRAIN this model on a down-stream task to be able to use it for predictions and inference.\n"
     ]
    }
   ],
   "source": [
    "# We'll be fine-tuning a small BERT-like model for now. Please try other models for the main assignment.\n",
    "reward_model = transformers.AutoModelForSequenceClassification.from_pretrained(\"distilbert-base-cased\", device_map=device)\n",
    "reward_tokenizer = transformers.AutoTokenizer.from_pretrained(\"distilbert-base-cased\")"
   ]
  },
  {
   "cell_type": "markdown",
   "metadata": {
    "id": "_ZUUNQo-d11b"
   },
   "source": [
    "__Note that__ the reward model has a separate tokenizer, different from the main model. They don't need to be the same for RLHF fine-tuning."
   ]
  },
  {
   "cell_type": "code",
   "execution_count": null,
   "metadata": {},
   "outputs": [],
   "source": [
    "from torch.utils.data import Dataset\n",
    "\n",
    "class IMDBPairwiseDataset(Dataset):\n",
    "    \"\"\" \n",
    "    A dataset of all possible pairs of chosen and rejected texts for TRL reward training format.\n",
    "\n",
    "    This dataset is designed to facilitate the training of a reward model by providing pairs of\n",
    "    texts where one is preferred (chosen) and the other is not (rejected). Each sample in the dataset\n",
    "    is a dictionary containing tokenized input IDs and attention masks for both the chosen and rejected\n",
    "    texts.\n",
    "\n",
    "    Parameters:\n",
    "    imdb: dataset to pairwise\n",
    "    tokenizer: The tokenizer used to preprocess the texts\n",
    "    accepted_label (int): The label that indicates a chosen text. Texts with this label are considered\n",
    "                          preferred, while others are considered rejected.\n",
    "\n",
    "    Methods:\n",
    "    __len__(): Returns the total number of possible pairs of chosen and rejected texts.\n",
    "    __getitem__(index): Returns a dictionary containing tokenized inputs for a specific pair of chosen\n",
    "                        and rejected texts.\n",
    "    \"\"\"\n",
    "    \n",
    "    def __init__(self, imdb, tokenizer, accepted_label):\n",
    "        super().__init__()\n",
    "        self.tokenizer = tokenizer\n",
    "        self.chosen_texts = # <YOUR CODE HERE>\n",
    "        self.rejected_texts = # <YOUR CODE HERE>\n",
    "\n",
    "        assert self.chosen_texts, f\"no texts with label {accepted_label}\"\n",
    "        # print(f\"Found {len(self.chosen_texts)} chosen and {len(self.rejected_texts)} rejected texts, {len(self)} pairs\")\n",
    "\n",
    "        self.column_names = [\n",
    "            'input_ids_chosen', 'attention_mask_chosen',\n",
    "            'input_ids_rejected', 'attention_mask_rejected'\n",
    "        ]\n",
    "\n",
    "    def __len__(self):\n",
    "        raise NotImplementedError\n",
    "        return # <YOUR CODE HERE>  # all pairs\n",
    "\n",
    "    def __getitem__(self, index: int):\n",
    "        # <YOUR CODE HERE>\n",
    "        return dict(\n",
    "            input_ids_chosen=# <YOUR CODE HERE>,\n",
    "            attention_mask_chosen=# <YOUR CODE HERE>,\n",
    "            input_ids_rejected=# <YOUR CODE HERE>,\n",
    "            attention_mask_rejected=# <YOUR CODE HERE>,\n",
    "        )"
   ]
  },
  {
   "cell_type": "code",
   "execution_count": 6,
   "metadata": {
    "colab": {
     "base_uri": "https://localhost:8080/"
    },
    "id": "olo-bvgNcwEC",
    "outputId": "21b2a6f2-03cf-47a8-ffd0-c43a85ca331e"
   },
   "outputs": [
    {
     "name": "stdout",
     "output_type": "stream",
     "text": [
      "Found 12500 chosen and 12500 rejected texts, 156250000 pairs\n",
      "CHOSEN: [CLS] If only to avoid making this type of film in the future. This film is interesting as an experiment but tells no cogent story. < br / > < br / > One might feel virtuous for sitting thru it because it touches on so many IMPORTANT issues but it does so without any discernable motive. The viewer comes away with no new perspectives ( unless one comes up with one while one's mind wanders, as it will invariably do during this pointless film ). < br / > < br / > One might better spend one's time staring out a window at a tree growing. < br / > < br / > [SEP]\n",
      "REJECTED: [CLS] This movie has some things that are pretty amazing. First, it is supposed to be based on a true story. That, in itself, is amazing that multiple tornadoes would hit the same town at night in the fall - in Nebraska. I wonder if the real town's name was close to \" Blainsworth \" ( which is the town's name in the movie ). There is an Ainsworth, Nebraska, but there is also a town that starts with Blains - something. < br / > < br / > It does show the slowest moving tornadoes on record in the the seen where the boys are in the house. On the other hand, the scene where the TV goes fuzzy is based in fact. Before Doppler radar and weather radio, we were taught that if you turned your TV to a particular channel ( not on cable ) and tuned the brightness just right, you could tell if there was a tornado coming. The problem was that by then you would be able to hear it. < br / > < br / > Since I know something about midwest tornadoes, it made this movie fun for me. I enjoy it more than Twister. I mean, give me a break - there is no way you could make it through and F5 by chaining yourself to a pipe in a well house. [SEP]\n"
     ]
    }
   ],
   "source": [
    "TARGET_LABEL = 0 # negative reviews\n",
    "imdb = datasets.load_dataset(\"imdb\", split='train')\n",
    "reward_data = IMDBPairwiseDataset(imdb, reward_tokenizer, accepted_label=TARGET_LABEL)\n",
    "\n",
    "sample = reward_data[31337]\n",
    "print('CHOSEN:', reward_tokenizer.decode(sample['input_ids_chosen']))\n",
    "print('REJECTED:', reward_tokenizer.decode(sample['input_ids_rejected']))"
   ]
  },
  {
   "cell_type": "markdown",
   "metadata": {
    "id": "kZRczyofiSl0"
   },
   "source": [
    "We'll be using `trl.RewardTrainer` - a special case of `transformers.Trainer`.\n",
    "\n",
    "![img](https://i.imgur.com/2JzNAPs.png)\n",
    "\n",
    "Note that the model itself does not score pairs: it processes chosen ($y_w$) and rejected ($y_l$) samples independently. To minimize this loss, the reward model needs to score chosen sample higher than the rejected one. Note that the formula also assumes some context $x$, which is useful for seq2seq tasks. In our case of movie reviews, $x$ is empty."
   ]
  },
  {
   "cell_type": "code",
   "execution_count": 7,
   "metadata": {
    "colab": {
     "base_uri": "https://localhost:8080/",
     "height": 1000
    },
    "id": "oaQ_-JAzakJs",
    "outputId": "923b8692-5627-43bb-89b4-a42a7d0ff805"
   },
   "outputs": [
    {
     "name": "stderr",
     "output_type": "stream",
     "text": [
      "/home/eliseevan/venv-hw-05/lib/python3.10/site-packages/trl/trainer/reward_trainer.py:174: UserWarning: When using RewardDataCollatorWithPadding, you should set `max_length` in RewardConfig. It will be set to `512` by default, but you should do it yourself in the future.\n",
      "  warnings.warn(\n",
      "/home/eliseevan/venv-hw-05/lib/python3.10/site-packages/trl/trainer/reward_trainer.py:191: UserWarning: When using RewardDataCollatorWithPadding, you should set `remove_unused_columns=False` in your RewardConfig we have set it for you, but you should do it yourself in the future.\n",
      "  warnings.warn(\n",
      "/home/eliseevan/venv-hw-05/lib/python3.10/site-packages/accelerate/accelerator.py:439: FutureWarning: `torch.cuda.amp.GradScaler(args...)` is deprecated. Please use `torch.amp.GradScaler('cuda', args...)` instead.\n",
      "  self.scaler = torch.cuda.amp.GradScaler(**kwargs)\n",
      "You're using a DistilBertTokenizerFast tokenizer. Please note that with a fast tokenizer, using the `__call__` method is faster than using a method to encode the text followed by a call to the `pad` method to get a padded encoding.\n",
      "/home/eliseevan/venv-hw-05/lib/python3.10/site-packages/transformers/tokenization_utils_base.py:2436: UserWarning: `max_length` is ignored when `padding`=`True` and there is no truncation strategy. To pad to max length, use `padding='max_length'`.\n",
      "  warnings.warn(\n",
      "/home/eliseevan/venv-hw-05/lib/python3.10/site-packages/torch/_dynamo/eval_frame.py:632: UserWarning: torch.utils.checkpoint: the use_reentrant parameter should be passed explicitly. In version 2.5 we will raise an exception if use_reentrant is not passed. use_reentrant=False is recommended, but if you need to preserve the current default behavior, you can pass use_reentrant=True. Refer to docs for more details on the differences between the two variants.\n",
      "  return fn(*args, **kwargs)\n",
      "Could not estimate the number of tokens of the input, floating-point operations will not be computed\n"
     ]
    },
    {
     "data": {
      "text/html": [
       "\n",
       "    <div>\n",
       "      \n",
       "      <progress value='1000' max='1000' style='width:300px; height:20px; vertical-align: middle;'></progress>\n",
       "      [1000/1000 11:46, Epoch 0/1]\n",
       "    </div>\n",
       "    <table border=\"1\" class=\"dataframe\">\n",
       "  <thead>\n",
       " <tr style=\"text-align: left;\">\n",
       "      <th>Step</th>\n",
       "      <th>Training Loss</th>\n",
       "    </tr>\n",
       "  </thead>\n",
       "  <tbody>\n",
       "    <tr>\n",
       "      <td>50</td>\n",
       "      <td>0.539800</td>\n",
       "    </tr>\n",
       "    <tr>\n",
       "      <td>100</td>\n",
       "      <td>0.169800</td>\n",
       "    </tr>\n",
       "    <tr>\n",
       "      <td>150</td>\n",
       "      <td>0.144800</td>\n",
       "    </tr>\n",
       "    <tr>\n",
       "      <td>200</td>\n",
       "      <td>0.126300</td>\n",
       "    </tr>\n",
       "    <tr>\n",
       "      <td>250</td>\n",
       "      <td>0.099200</td>\n",
       "    </tr>\n",
       "    <tr>\n",
       "      <td>300</td>\n",
       "      <td>0.117800</td>\n",
       "    </tr>\n",
       "    <tr>\n",
       "      <td>350</td>\n",
       "      <td>0.085800</td>\n",
       "    </tr>\n",
       "    <tr>\n",
       "      <td>400</td>\n",
       "      <td>0.079900</td>\n",
       "    </tr>\n",
       "    <tr>\n",
       "      <td>450</td>\n",
       "      <td>0.073800</td>\n",
       "    </tr>\n",
       "    <tr>\n",
       "      <td>500</td>\n",
       "      <td>0.064600</td>\n",
       "    </tr>\n",
       "    <tr>\n",
       "      <td>550</td>\n",
       "      <td>0.072300</td>\n",
       "    </tr>\n",
       "    <tr>\n",
       "      <td>600</td>\n",
       "      <td>0.065400</td>\n",
       "    </tr>\n",
       "    <tr>\n",
       "      <td>650</td>\n",
       "      <td>0.069000</td>\n",
       "    </tr>\n",
       "    <tr>\n",
       "      <td>700</td>\n",
       "      <td>0.076400</td>\n",
       "    </tr>\n",
       "    <tr>\n",
       "      <td>750</td>\n",
       "      <td>0.071200</td>\n",
       "    </tr>\n",
       "    <tr>\n",
       "      <td>800</td>\n",
       "      <td>0.074200</td>\n",
       "    </tr>\n",
       "    <tr>\n",
       "      <td>850</td>\n",
       "      <td>0.070200</td>\n",
       "    </tr>\n",
       "    <tr>\n",
       "      <td>900</td>\n",
       "      <td>0.065800</td>\n",
       "    </tr>\n",
       "    <tr>\n",
       "      <td>950</td>\n",
       "      <td>0.071500</td>\n",
       "    </tr>\n",
       "    <tr>\n",
       "      <td>1000</td>\n",
       "      <td>0.073900</td>\n",
       "    </tr>\n",
       "  </tbody>\n",
       "</table><p>"
      ],
      "text/plain": [
       "<IPython.core.display.HTML object>"
      ]
     },
     "metadata": {},
     "output_type": "display_data"
    },
    {
     "name": "stderr",
     "output_type": "stream",
     "text": [
      "/home/eliseevan/venv-hw-05/lib/python3.10/site-packages/transformers/tokenization_utils_base.py:2436: UserWarning: `max_length` is ignored when `padding`=`True` and there is no truncation strategy. To pad to max length, use `padding='max_length'`.\n",
      "  warnings.warn(\n",
      "/home/eliseevan/venv-hw-05/lib/python3.10/site-packages/torch/_dynamo/eval_frame.py:632: UserWarning: torch.utils.checkpoint: the use_reentrant parameter should be passed explicitly. In version 2.5 we will raise an exception if use_reentrant is not passed. use_reentrant=False is recommended, but if you need to preserve the current default behavior, you can pass use_reentrant=True. Refer to docs for more details on the differences between the two variants.\n",
      "  return fn(*args, **kwargs)\n"
     ]
    },
    {
     "data": {
      "text/plain": [
       "TrainOutput(global_step=1000, training_loss=0.11058906745910645, metrics={'train_runtime': 726.5175, 'train_samples_per_second': 44.046, 'train_steps_per_second': 1.376, 'total_flos': 0.0, 'train_loss': 0.11058906745910645, 'epoch': 0.0})"
      ]
     },
     "execution_count": 7,
     "metadata": {},
     "output_type": "execute_result"
    }
   ],
   "source": [
    "training_args = trl.RewardConfig(  # like transformers.TrainingArguments\n",
    "    output_dir=\"reward_model\",\n",
    "    per_device_train_batch_size=32,\n",
    "    gradient_accumulation_steps=1,\n",
    "    learning_rate=1.41e-5,\n",
    "    max_steps=1_000,              # note: training may need more than 1k steps\n",
    "    logging_steps=50,\n",
    "    gradient_checkpointing=True,  # reduce memory usage but train ~30% slower\n",
    "    gradient_checkpointing_kwargs={\"use_reentrant\": False},\n",
    "    fp16=True,                    # disable this on CPU or on very old GPUs\n",
    "    report_to='none',\n",
    "    # you may add any other hyperparameters that you found useful\n",
    ")\n",
    "\n",
    "trainer = trl.RewardTrainer(\n",
    "    model=reward_model,\n",
    "    args=training_args,\n",
    "    tokenizer=reward_tokenizer,\n",
    "    train_dataset=reward_data,\n",
    "    peft_config=None,  # optionally, you may tune with LoRA, prompt-tuning, etc\n",
    ")\n",
    "\n",
    "trainer.train()"
   ]
  },
  {
   "cell_type": "code",
   "execution_count": 8,
   "metadata": {
    "colab": {
     "base_uri": "https://localhost:8080/"
    },
    "id": "CRk7z-2r4C-A",
    "outputId": "29e3b246-2adb-414f-8726-e6060ddaa56a"
   },
   "outputs": [
    {
     "data": {
      "text/plain": [
       "DistilBertForSequenceClassification(\n",
       "  (distilbert): DistilBertModel(\n",
       "    (embeddings): Embeddings(\n",
       "      (word_embeddings): Embedding(28996, 768, padding_idx=0)\n",
       "      (position_embeddings): Embedding(512, 768)\n",
       "      (LayerNorm): LayerNorm((768,), eps=1e-12, elementwise_affine=True)\n",
       "      (dropout): Dropout(p=0.1, inplace=False)\n",
       "    )\n",
       "    (transformer): Transformer(\n",
       "      (layer): ModuleList(\n",
       "        (0-5): 6 x TransformerBlock(\n",
       "          (attention): MultiHeadSelfAttention(\n",
       "            (dropout): Dropout(p=0.1, inplace=False)\n",
       "            (q_lin): Linear(in_features=768, out_features=768, bias=True)\n",
       "            (k_lin): Linear(in_features=768, out_features=768, bias=True)\n",
       "            (v_lin): Linear(in_features=768, out_features=768, bias=True)\n",
       "            (out_lin): Linear(in_features=768, out_features=768, bias=True)\n",
       "          )\n",
       "          (sa_layer_norm): LayerNorm((768,), eps=1e-12, elementwise_affine=True)\n",
       "          (ffn): FFN(\n",
       "            (dropout): Dropout(p=0.1, inplace=False)\n",
       "            (lin1): Linear(in_features=768, out_features=3072, bias=True)\n",
       "            (lin2): Linear(in_features=3072, out_features=768, bias=True)\n",
       "            (activation): GELUActivation()\n",
       "          )\n",
       "          (output_layer_norm): LayerNorm((768,), eps=1e-12, elementwise_affine=True)\n",
       "        )\n",
       "      )\n",
       "    )\n",
       "  )\n",
       "  (pre_classifier): Linear(in_features=768, out_features=768, bias=True)\n",
       "  (classifier): Linear(in_features=768, out_features=2, bias=True)\n",
       "  (dropout): Dropout(p=0.2, inplace=False)\n",
       ")"
      ]
     },
     "execution_count": 8,
     "metadata": {},
     "output_type": "execute_result"
    }
   ],
   "source": [
    "reward_model.gradient_checkpointing_disable()\n",
    "reward_model.eval()"
   ]
  },
  {
   "cell_type": "markdown",
   "metadata": {
    "id": "wZIaS-gRo8yc"
   },
   "source": [
    "### Sanity-check the reward model\n",
    "\n",
    "Let's check how our reward model performs.\n",
    "\n",
    "__Your task__ is to measure how often does your reward model can rank a pair of (chosen and rejected) reviews correctly. Please measure this separately for train data (`imdb`) and a separate test set loaded below."
   ]
  },
  {
   "cell_type": "code",
   "execution_count": 9,
   "metadata": {
    "colab": {
     "base_uri": "https://localhost:8080/"
    },
    "id": "IeQ108nOZ7nO",
    "outputId": "576a2031-f1fc-49cc-b470-c9fd4983ffbf"
   },
   "outputs": [
    {
     "name": "stdout",
     "output_type": "stream",
     "text": [
      "TEXT: This movie sucked. It really was a waste of my life. The acting was atrocious, the plot completely implausible. Long, long story short, these people get \"terrorized\" by this pathetic \"crazed killer\", but completely fail to fight back in any manner. And this is after they take a raft on a camping trip, with no gear, and show up at a campsite that is already assembled and completely stocked with food and clothes and the daughters headphones. Additionally, after their boat goes missing, they panic that they're stuck in the woods, but then the daughters boyfriend just shows up and they apparently never consider that they could just hike out of the woods like he did to get to them. Like I said, this movie sucks. A complete joke. Don't let your girlfriend talk you into watching it.\n",
      "REWARD: 4.9140625\n",
      "LABEL: 0\n",
      "\n",
      "TEXT: Good: Engaging cinematic firefights, great presentation, vehicles are actually fun to drive, fairly appealing multiplayer, faithful to the movie, and the list goes on.<br /><br />Bad: Main missions are a bit short.<br /><br />This game defines what a \"good\" third person shooter(not necessarily a spy-game) is. Great firefights carry on the story and make you want to complete EVERY single mission through, and unlock all the genuine bonuses the game has to offer. The hype this game had, was lived up to, and I personally think you should buy it, and hook up with a couple of friends and play this one. Loads of fun. <br /><br />The sound in this game, is a rip-roaring achievement from a few previous bond games, and firing a weapon, really feels like you're firing a weapon. It ties in with the aspect that you are a deadly and ruthless spy.<br /><br />All in all, this game makes you excited and satisfied after you make it through, and some multiplayer that can compete with the standards of the crafty James Bond \"Nightfire\" game for gamecube.\n",
      "REWARD: -4.97265625\n",
      "LABEL: 1\n",
      "\n"
     ]
    }
   ],
   "source": [
    "\n",
    "for sample_index in 45, 16000:\n",
    "  print('TEXT:', imdb[sample_index]['text'])\n",
    "  inputs = reward_tokenizer(imdb[sample_index]['text'], truncation=True, return_tensors='pt').to(device)\n",
    "  with torch.no_grad():\n",
    "    reward = reward_model(**inputs).logits[0, 0].item()\n",
    "    print(\"REWARD:\", reward)\n",
    "  print('LABEL:', imdb[sample_index]['label'])\n",
    "  print()\n",
    "\n",
    "# note: your reward model may produce different absolute rewards.\n",
    "# This is fine as long as the rewards are ordered correctly (most of the time)"
   ]
  },
  {
   "cell_type": "markdown",
   "metadata": {
    "id": "GITb0RF_FVUH"
   },
   "source": [
    "First of all, let's implement `compute_reward` function. Note that we use plaintext reviews because main model uses a different tokenizer from the reward model."
   ]
  },
  {
   "cell_type": "code",
   "execution_count": 10,
   "metadata": {
    "id": "Y6eFIM_wlJrn"
   },
   "outputs": [],
   "source": [
    "from torch import Tensor, no_grad\n",
    "\n",
    "def compute_reward(reward_model, reward_tokenizer, texts: list[str], device='cpu') -> Tensor:\n",
    "    \"\"\"\n",
    "    Compute the reward scores for a list of texts using a specified reward model and tokenizer.\n",
    "\n",
    "    Parameters:\n",
    "    reward_model: The model used to compute the reward scores\n",
    "    reward_tokenizer: The tokenizer for reward_model\n",
    "    texts (list[str]): A list of text strings for which the reward scores are to be computed.\n",
    "    device (str, optional): The device on which the computation should be performed. Default is 'cpu'.\n",
    "\n",
    "    Returns:\n",
    "    torch.Tensor: A tensor containing the reward scores for each input text. The scores are extracted\n",
    "                  from the logits of the reward model.\n",
    "\n",
    "    Example:\n",
    "    >>> compute_reward(my_reward_model, my_reward_tokenizer, [\"text1\", \"text2\"])\n",
    "    tensor([ 5.1836, -4.8438], device='cpu')\n",
    "    \"\"\"\n",
    "    raise NotImplementedError\n",
    "\n",
    "    # <YOUR CODE HERE>\n",
    "    with no_grad():\n",
    "        # <YOUR CODE HERE>"
   ]
  },
  {
   "cell_type": "code",
   "execution_count": 11,
   "metadata": {
    "colab": {
     "base_uri": "https://localhost:8080/"
    },
    "id": "BhJ4WFjBhOMA",
    "outputId": "8a5c9990-dc7e-421b-af04-6871a3efa2fe"
   },
   "outputs": [
    {
     "name": "stdout",
     "output_type": "stream",
     "text": [
      "tensor([ 4.9141, -4.9727], device='cuda:0')\n"
     ]
    }
   ],
   "source": [
    "rewards = compute_reward(reward_model, reward_tokenizer, [imdb[45]['text'], imdb[16000]['text']], device=device)\n",
    "print(rewards)\n",
    "assert rewards[0] > rewards[1]\n",
    "assert rewards[0] > 0\n",
    "assert rewards[1] < 0"
   ]
  },
  {
   "cell_type": "code",
   "execution_count": 12,
   "metadata": {
    "id": "wzxa8k37mPS7"
   },
   "outputs": [],
   "source": [
    "from tqdm.auto import tqdm\n",
    "\n",
    "def eval_reward_model(reward_model, reward_tokenizer, test_dataset, target_label, device='cpu'):\n",
    "    \"\"\"\n",
    "    Evaluate the performance of a reward model by comparing reward scores for chosen and rejected reviews. \n",
    "\n",
    "    This function selects reviews from a test dataset based on a target label and evaluates the reward model's\n",
    "    ability to assign higher scores to chosen reviews compared to rejected ones. The evaluation is performed\n",
    "    in batches for efficiency.\n",
    "    Note that reward scores are compared on corresponding chosen and rejected reviews: \n",
    "        chosen_reviews[0] vs rejected_reviews[0], \n",
    "        chosen_reviews[1] vs rejected_reviews[1],\n",
    "        etc.\n",
    "\n",
    "    Parameters:\n",
    "    reward_model: The model used to compute the reward scores\n",
    "    reward_tokenizer: The tokenizer for reward_model\n",
    "    tes_dataset: test Dataset\n",
    "    target_label (0 or 1): The label used to select chosen reviews. Reviews with this label are considered chosen,\n",
    "                  while others are considered rejected.\n",
    "    device (str, optional): The device on which the computation should be performed. Default is 'cpu'.\n",
    "\n",
    "    Returns:\n",
    "    float: The accuracy of the reward model, calculated as the proportion of times the model assigns a higher\n",
    "           reward score to the chosen review compared to the rejected review.\n",
    "\n",
    "    Example:\n",
    "    >>> accuracy = eval_reward_model(my_reward_model, my_reward_tokenizer, test_data, target_label=1)\n",
    "    >>> print(f\"Model accuracy: {accuracy:.2%}\")\n",
    "    \"\"\"\n",
    "\n",
    "    raise NotImplementedError\n",
    "\n",
    "    # <YOUR CODE HERE>\n",
    "\n",
    "    assert len(chosen_reviews) == len(rejected_reviews)\n",
    "\n",
    "    # <YOUR CODE HERE>"
   ]
  },
  {
   "cell_type": "code",
   "execution_count": 13,
   "metadata": {
    "colab": {
     "base_uri": "https://localhost:8080/",
     "height": 67,
     "referenced_widgets": [
      "f70928bb66b24415ad03f49633775e64",
      "11b0022cfbaa488db010a2f22a17b7cc",
      "015524419b8a4a21bec9ca2462a1bdae",
      "351c280e3e0644e08478893632ca878c",
      "9123a18088fb454d915218f37f72a790",
      "3fd865cd993242cdad016d9794a75f6e",
      "f986e194b4944ead94190797f28015fe",
      "c3bb5755a3f44b519c4203430846e3d2",
      "62e010f8c15d402aba1e045de8e8a50b",
      "579edffceded4184ab0009cef5e8d87e",
      "83eac7e3fc554ea09c2a41452cad2cde"
     ]
    },
    "id": "1OvHokADapTh",
    "outputId": "9921947c-07c7-4821-a706-f6f945d4f08c"
   },
   "outputs": [
    {
     "data": {
      "application/vnd.jupyter.widget-view+json": {
       "model_id": "e028547549f64153a57ce4f7db6e1df5",
       "version_major": 2,
       "version_minor": 0
      },
      "text/plain": [
       "  0%|          | 0/390 [00:00<?, ?it/s]"
      ]
     },
     "metadata": {},
     "output_type": "display_data"
    },
    {
     "name": "stdout",
     "output_type": "stream",
     "text": [
      "test accuracy: 0.96904\n"
     ]
    }
   ],
   "source": [
    "imdb_test = datasets.load_dataset(\"imdb\", split='test')\n",
    "\n",
    "test_accuracy = eval_reward_model(\n",
    "    reward_model,\n",
    "    reward_tokenizer,\n",
    "    imdb_test,\n",
    "    target_label=TARGET_LABEL,\n",
    "    device=device,\n",
    ")\n",
    "\n",
    "print('test accuracy: {}'.format(test_accuracy))\n",
    "assert test_accuracy > 0.94"
   ]
  },
  {
   "cell_type": "markdown",
   "metadata": {
    "id": "NHCWHMyRw2-k"
   },
   "source": [
    "### Reward-guided generation (1 point)\n",
    "\n",
    "If you did everything right, by now you should have a decent reward model. Before we use it for reinforcement learning, let's see if we can align model samples without any training.\n",
    "\n",
    "To do so, you can use reward-guided inference: __generate N=16 samples, then select the one with the highest reward__ (according to your reward model).\n",
    "\n",
    "For this problem, it's on you to demonstrate whether or not your code works. Find at least 5 neutral prompts such as \"This movie is\" (...), generate samples, rank them based on reward and show which samples get the highest reward.\n",
    "\n",
    "Note: it is faster to generate samples in parallel, rather than sequentially, as follows:\n",
    "\n",
    "\n"
   ]
  },
  {
   "cell_type": "code",
   "execution_count": 14,
   "metadata": {
    "colab": {
     "base_uri": "https://localhost:8080/"
    },
    "id": "8BRsyb2cq5dR",
    "outputId": "af7df016-7656-47b9-9d7b-72bebb62c4b2"
   },
   "outputs": [
    {
     "name": "stderr",
     "output_type": "stream",
     "text": [
      "Setting `pad_token_id` to `eos_token_id`:50256 for open-end generation.\n"
     ]
    },
    {
     "name": "stdout",
     "output_type": "stream",
     "text": [
      "Sample: It was probably the strangest film to ever grace the screen.<br /><br />I must add to all this, I have an adult daughter and she was very interesting.<br /><br />\"Laughing At The Sea\"...<br /\n",
      "Sample: It was, in my opinion, the worst version of The Man Who Knew Too Much. You think you are going to like it and then find yourself sitting there and talking, while other films, for various reasons, don't even put a plot together.\n",
      "Sample: It was a movie in which no one could say exactly what was happening, but it didn't have the kind of bad acting that made me want to get up and leave the theater that fast.<br /><br />Despite how poorly done this movie is,\n",
      "Sample: It was great to watch the first hour of this so I couldn't miss anything. I didn't like it though, because it seemed so weird and scary and the scenes were so much different than most films.<br /><br />I got quite annoyed by\n",
      "Sample: It was an incredible scene. The one that really got me was when the movie started, the doctor goes down with a bad cut of his face. He goes to give the girl a little hand and says he has something. She tells him that it is the\n"
     ]
    }
   ],
   "source": [
    "inputs = main_tokenizer([\"It was\"] * 5, return_tensors='pt').to(device)\n",
    "for candidate in main_model.generate(**inputs, max_new_tokens=50, do_sample=True):\n",
    "  print(\"Sample:\", main_tokenizer.decode(candidate.flatten().cpu().numpy().tolist()))"
   ]
  },
  {
   "cell_type": "code",
   "execution_count": 15,
   "metadata": {
    "id": "r08F4lz7yxE1"
   },
   "outputs": [],
   "source": [
    "def generate_with_reward_guidance(\n",
    "        main_model, main_tokenizer,\n",
    "        reward_model, reward_tokenizer,\n",
    "        N=16,\n",
    "        device='cpu',\n",
    "    ):\n",
    "    \"\"\"\n",
    "    Generate text samples using a main model and select the best sample based on a reward model's guidance.\n",
    "\n",
    "    This function generates multiple text samples from a main model, evaluates each sample using a reward model,\n",
    "    and returns the sample with the highest reward score. The process is guided by the reward model to select\n",
    "    the most desirable output.\n",
    "\n",
    "    Parameters:\n",
    "    main_model: The language model used to generate text samples.\n",
    "    main_tokenizer: The tokenizer for main_model\n",
    "    reward_model: The model used to compute reward scores for the generated samples.\n",
    "    reward_tokenizer: The tokenizer for reward_model\n",
    "    N (int, optional): The number of text samples to generate. Default is 16.\n",
    "    device (str, optional): The device on which the computation should be performed. Default is 'cpu'.\n",
    "\n",
    "    Returns:\n",
    "    str: The generated text sample with the highest reward score.\n",
    "    \"\"\"\n",
    "\n",
    "    # <YOUR CODE HERE>\n",
    "\n",
    "    raise NotImplementedError"
   ]
  },
  {
   "cell_type": "code",
   "execution_count": 16,
   "metadata": {
    "colab": {
     "base_uri": "https://localhost:8080/",
     "height": 71
    },
    "id": "cI5kuJ-Gb6Pn",
    "outputId": "b1ef6774-5a12-43d1-aa5f-50efedd96b8c"
   },
   "outputs": [
    {
     "name": "stderr",
     "output_type": "stream",
     "text": [
      "Setting `pad_token_id` to `eos_token_id`:50256 for open-end generation.\n"
     ]
    },
    {
     "data": {
      "text/plain": [
       "\"The movie is a total joke, because it is so stupid. It feels like you are reading a comic book about the life of a family and their child. It just can't happen by chance. I would have been stunned if I saw the movie and watched it\""
      ]
     },
     "execution_count": 16,
     "metadata": {},
     "output_type": "execute_result"
    }
   ],
   "source": [
    "generate_with_reward_guidance(\n",
    "    main_model, main_tokenizer,\n",
    "    reward_model, reward_tokenizer,\n",
    "    device=device,\n",
    ")"
   ]
  },
  {
   "cell_type": "markdown",
   "metadata": {
    "id": "8NjQ40BRoH5f"
   },
   "source": [
    "# Stage 2: fine-tune the main model with RL\n",
    "\n",
    "\n",
    "Now, we will optimize GPT2 to produce negative IMDB movie reviews using the reward model you trained above.\n",
    "\n",
    "Unlike supervised fine-tuning, RL allows model to generate it's own sentences on each training step. Then, it calculates the reward of those specific sentences, and finally, updates the model to increase the probability of sentences with high reward.\n",
    "\n",
    "Thus, each RLHF consists of three stages: __Rollout__, __Evaluation__ and __Update__\n",
    "\n",
    "<div style=\"text-align: center\">\n",
    "<img src='https://huggingface.co/datasets/trl-internal-testing/example-images/resolve/main/images/gpt2_bert_training.png' width='600'>\n",
    "\n",
    "The update stage depends on the specific RL algorithm. We'll be using Proximal Policy Optimization, or [PPO](https://arxiv.org/abs/1707.06347), similarly to what was used for InstructGPT.\n",
    "\n",
    "Before we run those 3 stages, however, we need to create a dataset of \"queries\" - partial reviews in our case."
   ]
  },
  {
   "cell_type": "code",
   "execution_count": 17,
   "metadata": {
    "colab": {
     "base_uri": "https://localhost:8080/",
     "height": 119,
     "referenced_widgets": [
      "14bab8c0ec8f4b7ea41d4e74a31d280b",
      "c6d1254f73fc441897fb289661579fcc",
      "4cdf531ea3f545ffa6e0d0f68389f653",
      "a36ee9303657431093a8b33d713e9bd8",
      "daad181cf83044a5bc285f7925176464",
      "5482e18aa0564a50a7599875aa7e053f",
      "4ddb8f654c5a45e38c588cac213d0eb8",
      "f67d8a3f95074b01853851dd5b41cfa6",
      "b4b6c04b33e44613a3736505a4899d71",
      "f49a71e7d53342809dc887e254aa9d9f",
      "c52d8a32faa54cd9b7541441d3551ded",
      "5470a457a3e2466789ab2f3ca3289daa",
      "afb680bcb0fc4f4a94f04b5c086f77c6",
      "e76aa419c1864ab7906f58c09b53efb8",
      "0970efe0166f40b4a4355f474bfe182a",
      "64858c8a884d4e0792e0f6894015ead5",
      "a0134acdd9764db08cdb145a3b816eb3",
      "b07ef37f928646c7807471849cf6f71a",
      "5dab60bfa0f54cadbc163b4331732185",
      "a35d7bf116124060b525d12cd119ac5b",
      "305a6c274faa46beb46e8a2eff32d0fe",
      "5eec4a26a59c4b108bf576f21cad07f0"
     ]
    },
    "id": "jm5IUrer0xd_",
    "outputId": "2acab8d0-b1c1-4742-ec9b-95f8647d0526"
   },
   "outputs": [
    {
     "data": {
      "application/vnd.jupyter.widget-view+json": {
       "model_id": "edde16624d554e34bcd05f91c3eee171",
       "version_major": 2,
       "version_minor": 0
      },
      "text/plain": [
       "Filter:   0%|          | 0/25000 [00:00<?, ? examples/s]"
      ]
     },
     "metadata": {},
     "output_type": "display_data"
    },
    {
     "data": {
      "application/vnd.jupyter.widget-view+json": {
       "model_id": "b3afc5a8c6f34edb9e807c7401843db0",
       "version_major": 2,
       "version_minor": 0
      },
      "text/plain": [
       "Map:   0%|          | 0/24895 [00:00<?, ? examples/s]"
      ]
     },
     "metadata": {},
     "output_type": "display_data"
    },
    {
     "name": "stderr",
     "output_type": "stream",
     "text": [
      "Token indices sequence length is longer than the specified maximum sequence length for this model (1168 > 1024). Running this sequence through the model will result in indexing errors\n"
     ]
    }
   ],
   "source": [
    "# Note: this code is specific to IMDB; you will need to re-write it for other tasks\n",
    "imdb_for_rlhf = imdb.filter(lambda row: len(row['text']) > 200, batched=False)\n",
    "imdb_for_rlhf = imdb_for_rlhf.remove_columns(['label'])\n",
    "sample_length = trl.core.LengthSampler(2, 8)  # use the first 2-8 tokens as query\n",
    "\n",
    "def select_query_and_tokenize(sample):\n",
    "    query_ids = main_tokenizer.encode(sample[\"text\"])[: sample_length()]\n",
    "    sample[\"query\"] = main_tokenizer.decode(query_ids)  # query is the only required column\n",
    "    sample[\"input_ids\"] = query_ids  # to avoid re-tokenizing later\n",
    "    return sample  # we do not need the rest - it will be generated by the model\n",
    "\n",
    "imdb_for_rlhf = imdb_for_rlhf.map(select_query_and_tokenize, batched=False)\n",
    "imdb_for_rlhf.set_format(type=\"torch\")"
   ]
  },
  {
   "cell_type": "markdown",
   "metadata": {
    "id": "U3buACYV4QLJ"
   },
   "source": [
    "Finally, we move to RL training. In this tutorial, we'll train LoRA adapters and not the full model."
   ]
  },
  {
   "cell_type": "code",
   "execution_count": 18,
   "metadata": {
    "colab": {
     "base_uri": "https://localhost:8080/"
    },
    "id": "nar1yXgl4KQa",
    "outputId": "6fcd294c-3151-4494-a62f-14e4989e4259"
   },
   "outputs": [
    {
     "name": "stderr",
     "output_type": "stream",
     "text": [
      "/home/eliseevan/venv-hw-05/lib/python3.10/site-packages/huggingface_hub/file_download.py:797: FutureWarning: `resume_download` is deprecated and will be removed in version 1.0.0. Downloads always resume when possible. If you want to force a new download, use `force_download=True`.\n",
      "  warnings.warn(\n",
      "/home/eliseevan/venv-hw-05/lib/python3.10/site-packages/accelerate/accelerator.py:439: FutureWarning: `torch.cuda.amp.GradScaler(args...)` is deprecated. Please use `torch.amp.GradScaler('cuda', args...)` instead.\n",
      "  self.scaler = torch.cuda.amp.GradScaler(**kwargs)\n",
      "/home/eliseevan/venv-hw-05/lib/python3.10/site-packages/transformers/modeling_utils.py:488: FutureWarning: You are using `torch.load` with `weights_only=False` (the current default value), which uses the default pickle module implicitly. It is possible to construct malicious pickle data which will execute arbitrary code during unpickling (See https://github.com/pytorch/pytorch/blob/main/SECURITY.md#untrusted-models for more details). In a future release, the default value for `weights_only` will be flipped to `True`. This limits the functions that could be executed during unpickling. Arbitrary objects will no longer be allowed to be loaded via this mode unless they are explicitly allowlisted by the user via `torch.serialization.add_safe_globals`. We recommend you start setting `weights_only=True` for any use case where you don't have full control of the loaded file. Please open an issue on GitHub for any issues related to this experimental feature.\n",
      "  return torch.load(checkpoint_file, map_location=map_location)\n",
      "/home/eliseevan/venv-hw-05/lib/python3.10/site-packages/trl/models/modeling_base.py:298: FutureWarning: You are using `torch.load` with `weights_only=False` (the current default value), which uses the default pickle module implicitly. It is possible to construct malicious pickle data which will execute arbitrary code during unpickling (See https://github.com/pytorch/pytorch/blob/main/SECURITY.md#untrusted-models for more details). In a future release, the default value for `weights_only` will be flipped to `True`. This limits the functions that could be executed during unpickling. Arbitrary objects will no longer be allowed to be loaded via this mode unless they are explicitly allowlisted by the user via `torch.serialization.add_safe_globals`. We recommend you start setting `weights_only=True` for any use case where you don't have full control of the loaded file. Please open an issue on GitHub for any issues related to this experimental feature.\n",
      "  state_dict = loading_func(filename if not use_safe else safe_filename, **load_kwargs)\n",
      "/home/eliseevan/venv-hw-05/lib/python3.10/site-packages/peft/tuners/lora.py:475: UserWarning: fan_in_fan_out is set to False but the target module is `Conv1D`. Setting fan_in_fan_out to True.\n",
      "  warnings.warn(\n"
     ]
    },
    {
     "name": "stdout",
     "output_type": "stream",
     "text": [
      "trainable params: 1,179,648 || all params: 125,620,225 || trainable%: 0.9390589771670923\n"
     ]
    }
   ],
   "source": [
    "import peft\n",
    "peft_config = peft.LoraConfig(\n",
    "    task_type=peft.TaskType.CAUSAL_LM, r=32, lora_alpha=32, lora_dropout=0.0, inference_mode=False\n",
    ")\n",
    "\n",
    "# reload main model as AutoModelForCausalLMWithValueHead - with an extra head needed for PPO\n",
    "main_tokenizer = transformers.AutoTokenizer.from_pretrained(\"lvwerra/gpt2-imdb\")\n",
    "main_tokenizer.pad_token = main_tokenizer.eos_token\n",
    "\n",
    "main_model = trl.AutoModelForCausalLMWithValueHead.from_pretrained(\"lvwerra/gpt2-imdb\", device_map=device)\n",
    "main_model = peft.get_peft_model(main_model, peft_config, adapter_name='default')\n",
    "main_model.print_trainable_parameters()"
   ]
  },
  {
   "cell_type": "markdown",
   "metadata": {
    "id": "qIQK5bcpCPZ6"
   },
   "source": [
    "Same as before, trl has a special type of trainer that minimize PPO-specific pseudo-loss. You can read more on this trainer [here](https://huggingface.co/docs/trl/main/en/ppo_trainer)."
   ]
  },
  {
   "cell_type": "code",
   "execution_count": 19,
   "metadata": {
    "id": "m4gvjdKbmeJf"
   },
   "outputs": [],
   "source": [
    "training_args = trl.PPOConfig(\n",
    "    model_name=main_model.config._name_or_path,\n",
    "    gradient_accumulation_steps=1,\n",
    "    learning_rate=1.41e-5,\n",
    "    batch_size=64,\n",
    "    ppo_epochs=4,                 # PPO performs this many updates per training batch\n",
    ")\n",
    "\n",
    "ppo_trainer = trl.PPOTrainer(\n",
    "    training_args, model=main_model.model, tokenizer=main_tokenizer,\n",
    "    dataset=imdb_for_rlhf, data_collator=lambda data: dict((key, [d[key] for d in data]) for key in data[0])\n",
    ")  # note: we pass main_model.model because PPOTrainer checks for one of several supported model types ...\n",
    "# ... main_model.model is a model with adapters, which is supported. main_model itself is a wrapper that is not supported"
   ]
  },
  {
   "cell_type": "code",
   "execution_count": 20,
   "metadata": {
    "colab": {
     "base_uri": "https://localhost:8080/",
     "height": 1000,
     "referenced_widgets": [
      "90b8fdb8b9fb438f84c4f390683b0f3f",
      "af3a05a0c4ca49a385776d6c42427f8a",
      "ce8dea39d6b44be18e8f94392f94e7ce",
      "7b5922a62de94ee29cb6eefc9193190d",
      "0daa5834f1834dea9d5e40e6a3c4b376",
      "11f6a941d42f4692a53f94f36aca62d5",
      "6d693232f3c048ad944a47ee5742187c",
      "d833f6bf46c04b64acd1c04165c8f813",
      "0033ac842aab47e48f35151855112979",
      "60cbfb4df6da47d4b8b9624047b91cf2",
      "73db6e451d7c401d8b341c4352809e20"
     ]
    },
    "id": "eYr-w666-QfK",
    "outputId": "9dc19617-96cc-4ecc-d49f-dc8326a363e0",
    "scrolled": true
   },
   "outputs": [
    {
     "data": {
      "application/vnd.jupyter.widget-view+json": {
       "model_id": "61a9d37ceb6445e9a4443d8a5160465c",
       "version_major": 2,
       "version_minor": 0
      },
      "text/plain": [
       "  0%|          | 0/50 [00:00<?, ?it/s]"
      ]
     },
     "metadata": {},
     "output_type": "display_data"
    },
    {
     "name": "stderr",
     "output_type": "stream",
     "text": [
      "You're using a GPT2TokenizerFast tokenizer. Please note that with a fast tokenizer, using the `__call__` method is faster than using a method to encode the text followed by a call to the `pad` method to get a padded encoding.\n"
     ]
    },
    {
     "name": "stdout",
     "output_type": "stream",
     "text": [
      "------------------------------ STEP 0 ------------------------------\n",
      "rewards/mean:\t0.028469086\t<---- average reward over this batch (higher=better, noisy)\n",
      "rewards/moving_avg:\t0.008540726\t<---- moving average reward (higher=better, less noisy)\n",
      "ppo/returns/mean:\t-0.302484870\t<---- model-estimated average discounted reward\n",
      "objective/kl:\t0.000000000\t<---- how far we are from the original model (regularizer)\n",
      "\n",
      "------------------------------ STEP 1 ------------------------------\n",
      "rewards/mean:\t-0.079488754\t<---- average reward over this batch (higher=better, noisy)\n",
      "rewards/moving_avg:\t-0.017868118\t<---- moving average reward (higher=better, less noisy)\n",
      "ppo/returns/mean:\t-0.531041741\t<---- model-estimated average discounted reward\n",
      "objective/kl:\t0.439012289\t<---- how far we are from the original model (regularizer)\n",
      "\n",
      "------------------------------ STEP 2 ------------------------------\n",
      "rewards/mean:\t0.762774944\t<---- average reward over this batch (higher=better, noisy)\n",
      "rewards/moving_avg:\t0.216324800\t<---- moving average reward (higher=better, less noisy)\n",
      "ppo/returns/mean:\t-0.250712872\t<---- model-estimated average discounted reward\n",
      "objective/kl:\t0.666223288\t<---- how far we are from the original model (regularizer)\n",
      "\n",
      "------------------------------ STEP 3 ------------------------------\n",
      "rewards/mean:\t-0.594944954\t<---- average reward over this batch (higher=better, noisy)\n",
      "rewards/moving_avg:\t-0.027056126\t<---- moving average reward (higher=better, less noisy)\n",
      "ppo/returns/mean:\t-0.316563129\t<---- model-estimated average discounted reward\n",
      "objective/kl:\t1.188512683\t<---- how far we are from the original model (regularizer)\n",
      "\n",
      "------------------------------ STEP 4 ------------------------------\n",
      "rewards/mean:\t0.298445463\t<---- average reward over this batch (higher=better, noisy)\n",
      "rewards/moving_avg:\t0.070594351\t<---- moving average reward (higher=better, less noisy)\n",
      "ppo/returns/mean:\t-0.210152656\t<---- model-estimated average discounted reward\n",
      "objective/kl:\t2.079652786\t<---- how far we are from the original model (regularizer)\n",
      "\n",
      "------------------------------ STEP 5 ------------------------------\n",
      "rewards/mean:\t0.733808517\t<---- average reward over this batch (higher=better, noisy)\n",
      "rewards/moving_avg:\t0.269558601\t<---- moving average reward (higher=better, less noisy)\n",
      "ppo/returns/mean:\t-0.097735554\t<---- model-estimated average discounted reward\n",
      "objective/kl:\t3.410155296\t<---- how far we are from the original model (regularizer)\n",
      "\n",
      "------------------------------ STEP 6 ------------------------------\n",
      "rewards/mean:\t-0.315002441\t<---- average reward over this batch (higher=better, noisy)\n",
      "rewards/moving_avg:\t0.094190288\t<---- moving average reward (higher=better, less noisy)\n",
      "ppo/returns/mean:\t-0.192494005\t<---- model-estimated average discounted reward\n",
      "objective/kl:\t3.873281240\t<---- how far we are from the original model (regularizer)\n",
      "\n",
      "------------------------------ STEP 7 ------------------------------\n",
      "rewards/mean:\t0.121335745\t<---- average reward over this batch (higher=better, noisy)\n",
      "rewards/moving_avg:\t0.102333925\t<---- moving average reward (higher=better, less noisy)\n",
      "ppo/returns/mean:\t-0.164423436\t<---- model-estimated average discounted reward\n",
      "objective/kl:\t4.492988110\t<---- how far we are from the original model (regularizer)\n",
      "\n",
      "------------------------------ STEP 8 ------------------------------\n",
      "rewards/mean:\t0.550456047\t<---- average reward over this batch (higher=better, noisy)\n",
      "rewards/moving_avg:\t0.236770562\t<---- moving average reward (higher=better, less noisy)\n",
      "ppo/returns/mean:\t-0.034025837\t<---- model-estimated average discounted reward\n",
      "objective/kl:\t5.967907906\t<---- how far we are from the original model (regularizer)\n",
      "\n",
      "------------------------------ STEP 9 ------------------------------\n",
      "rewards/mean:\t0.865928650\t<---- average reward over this batch (higher=better, noisy)\n",
      "rewards/moving_avg:\t0.425517988\t<---- moving average reward (higher=better, less noisy)\n",
      "ppo/returns/mean:\t0.026129829\t<---- model-estimated average discounted reward\n",
      "objective/kl:\t5.630018234\t<---- how far we are from the original model (regularizer)\n",
      "\n",
      "------------------------------ STEP 10 ------------------------------\n",
      "rewards/mean:\t0.039209783\t<---- average reward over this batch (higher=better, noisy)\n",
      "rewards/moving_avg:\t0.309625527\t<---- moving average reward (higher=better, less noisy)\n",
      "ppo/returns/mean:\t0.006224953\t<---- model-estimated average discounted reward\n",
      "objective/kl:\t6.697559357\t<---- how far we are from the original model (regularizer)\n",
      "\n",
      "------------------------------ STEP 11 ------------------------------\n",
      "rewards/mean:\t0.771027088\t<---- average reward over this batch (higher=better, noisy)\n",
      "rewards/moving_avg:\t0.448045995\t<---- moving average reward (higher=better, less noisy)\n",
      "ppo/returns/mean:\t-0.040478110\t<---- model-estimated average discounted reward\n",
      "objective/kl:\t7.514247894\t<---- how far we are from the original model (regularizer)\n",
      "\n",
      "------------------------------ STEP 12 ------------------------------\n",
      "rewards/mean:\t0.727104187\t<---- average reward over this batch (higher=better, noisy)\n",
      "rewards/moving_avg:\t0.531763453\t<---- moving average reward (higher=better, less noisy)\n",
      "ppo/returns/mean:\t-0.083904266\t<---- model-estimated average discounted reward\n",
      "objective/kl:\t6.916909695\t<---- how far we are from the original model (regularizer)\n",
      "\n",
      "------------------------------ STEP 13 ------------------------------\n",
      "rewards/mean:\t0.122838020\t<---- average reward over this batch (higher=better, noisy)\n",
      "rewards/moving_avg:\t0.409085823\t<---- moving average reward (higher=better, less noisy)\n",
      "ppo/returns/mean:\t-0.158765227\t<---- model-estimated average discounted reward\n",
      "objective/kl:\t7.991172791\t<---- how far we are from the original model (regularizer)\n",
      "\n",
      "------------------------------ STEP 14 ------------------------------\n",
      "rewards/mean:\t0.700950623\t<---- average reward over this batch (higher=better, noisy)\n",
      "rewards/moving_avg:\t0.496645263\t<---- moving average reward (higher=better, less noisy)\n",
      "ppo/returns/mean:\t-0.224085569\t<---- model-estimated average discounted reward\n",
      "objective/kl:\t8.457415581\t<---- how far we are from the original model (regularizer)\n",
      "\n",
      "------------------------------ STEP 15 ------------------------------\n",
      "rewards/mean:\t1.222542763\t<---- average reward over this batch (higher=better, noisy)\n",
      "rewards/moving_avg:\t0.714414513\t<---- moving average reward (higher=better, less noisy)\n",
      "ppo/returns/mean:\t-0.084426001\t<---- model-estimated average discounted reward\n",
      "objective/kl:\t8.903973579\t<---- how far we are from the original model (regularizer)\n",
      "\n",
      "------------------------------ STEP 16 ------------------------------\n",
      "rewards/mean:\t1.135854483\t<---- average reward over this batch (higher=better, noisy)\n",
      "rewards/moving_avg:\t0.840846504\t<---- moving average reward (higher=better, less noisy)\n",
      "ppo/returns/mean:\t0.125249445\t<---- model-estimated average discounted reward\n",
      "objective/kl:\t8.201204300\t<---- how far we are from the original model (regularizer)\n",
      "\n",
      "------------------------------ STEP 17 ------------------------------\n",
      "rewards/mean:\t1.014769793\t<---- average reward over this batch (higher=better, noisy)\n",
      "rewards/moving_avg:\t0.893023490\t<---- moving average reward (higher=better, less noisy)\n",
      "ppo/returns/mean:\t0.144379631\t<---- model-estimated average discounted reward\n",
      "objective/kl:\t7.712117195\t<---- how far we are from the original model (regularizer)\n",
      "\n",
      "------------------------------ STEP 18 ------------------------------\n",
      "rewards/mean:\t1.181653976\t<---- average reward over this batch (higher=better, noisy)\n",
      "rewards/moving_avg:\t0.979612636\t<---- moving average reward (higher=better, less noisy)\n",
      "ppo/returns/mean:\t0.163782716\t<---- model-estimated average discounted reward\n",
      "objective/kl:\t8.202769279\t<---- how far we are from the original model (regularizer)\n",
      "\n",
      "------------------------------ STEP 19 ------------------------------\n",
      "rewards/mean:\t1.285274506\t<---- average reward over this batch (higher=better, noisy)\n",
      "rewards/moving_avg:\t1.071311197\t<---- moving average reward (higher=better, less noisy)\n",
      "ppo/returns/mean:\t0.137898818\t<---- model-estimated average discounted reward\n",
      "objective/kl:\t8.236093521\t<---- how far we are from the original model (regularizer)\n",
      "\n",
      "------------------------------ STEP 20 ------------------------------\n",
      "rewards/mean:\t1.609809399\t<---- average reward over this batch (higher=better, noisy)\n",
      "rewards/moving_avg:\t1.232860658\t<---- moving average reward (higher=better, less noisy)\n",
      "ppo/returns/mean:\t0.307932317\t<---- model-estimated average discounted reward\n",
      "objective/kl:\t7.770941734\t<---- how far we are from the original model (regularizer)\n",
      "\n",
      "------------------------------ STEP 21 ------------------------------\n",
      "rewards/mean:\t1.516443253\t<---- average reward over this batch (higher=better, noisy)\n",
      "rewards/moving_avg:\t1.317935436\t<---- moving average reward (higher=better, less noisy)\n",
      "ppo/returns/mean:\t0.315853179\t<---- model-estimated average discounted reward\n",
      "objective/kl:\t9.000028610\t<---- how far we are from the original model (regularizer)\n",
      "\n",
      "------------------------------ STEP 22 ------------------------------\n",
      "rewards/mean:\t1.908511162\t<---- average reward over this batch (higher=better, noisy)\n",
      "rewards/moving_avg:\t1.495108154\t<---- moving average reward (higher=better, less noisy)\n",
      "ppo/returns/mean:\t0.543554902\t<---- model-estimated average discounted reward\n",
      "objective/kl:\t7.721821308\t<---- how far we are from the original model (regularizer)\n",
      "\n",
      "------------------------------ STEP 23 ------------------------------\n",
      "rewards/mean:\t1.022434235\t<---- average reward over this batch (higher=better, noisy)\n",
      "rewards/moving_avg:\t1.353305978\t<---- moving average reward (higher=better, less noisy)\n",
      "ppo/returns/mean:\t0.327071041\t<---- model-estimated average discounted reward\n",
      "objective/kl:\t8.398483276\t<---- how far we are from the original model (regularizer)\n",
      "\n",
      "------------------------------ STEP 24 ------------------------------\n",
      "rewards/mean:\t1.398453236\t<---- average reward over this batch (higher=better, noisy)\n",
      "rewards/moving_avg:\t1.366850155\t<---- moving average reward (higher=better, less noisy)\n",
      "ppo/returns/mean:\t0.431412339\t<---- model-estimated average discounted reward\n",
      "objective/kl:\t7.633662701\t<---- how far we are from the original model (regularizer)\n",
      "\n",
      "------------------------------ STEP 25 ------------------------------\n",
      "rewards/mean:\t1.981400490\t<---- average reward over this batch (higher=better, noisy)\n",
      "rewards/moving_avg:\t1.551215256\t<---- moving average reward (higher=better, less noisy)\n",
      "ppo/returns/mean:\t0.692948461\t<---- model-estimated average discounted reward\n",
      "objective/kl:\t7.536169052\t<---- how far we are from the original model (regularizer)\n",
      "\n",
      "------------------------------ STEP 26 ------------------------------\n",
      "rewards/mean:\t1.787154198\t<---- average reward over this batch (higher=better, noisy)\n",
      "rewards/moving_avg:\t1.621996938\t<---- moving average reward (higher=better, less noisy)\n",
      "ppo/returns/mean:\t0.587336242\t<---- model-estimated average discounted reward\n",
      "objective/kl:\t8.973974228\t<---- how far we are from the original model (regularizer)\n",
      "\n",
      "------------------------------ STEP 27 ------------------------------\n",
      "rewards/mean:\t1.806027889\t<---- average reward over this batch (higher=better, noisy)\n",
      "rewards/moving_avg:\t1.677206224\t<---- moving average reward (higher=better, less noisy)\n",
      "ppo/returns/mean:\t0.679690599\t<---- model-estimated average discounted reward\n",
      "objective/kl:\t8.470265388\t<---- how far we are from the original model (regularizer)\n",
      "\n",
      "------------------------------ STEP 28 ------------------------------\n",
      "rewards/mean:\t1.994044781\t<---- average reward over this batch (higher=better, noisy)\n",
      "rewards/moving_avg:\t1.772257791\t<---- moving average reward (higher=better, less noisy)\n",
      "ppo/returns/mean:\t0.784925818\t<---- model-estimated average discounted reward\n",
      "objective/kl:\t7.877370834\t<---- how far we are from the original model (regularizer)\n",
      "\n",
      "------------------------------ STEP 29 ------------------------------\n",
      "rewards/mean:\t2.170017242\t<---- average reward over this batch (higher=better, noisy)\n",
      "rewards/moving_avg:\t1.891585626\t<---- moving average reward (higher=better, less noisy)\n",
      "ppo/returns/mean:\t0.944279432\t<---- model-estimated average discounted reward\n",
      "objective/kl:\t8.816902161\t<---- how far we are from the original model (regularizer)\n",
      "\n",
      "------------------------------ STEP 30 ------------------------------\n",
      "rewards/mean:\t1.881557465\t<---- average reward over this batch (higher=better, noisy)\n",
      "rewards/moving_avg:\t1.888577178\t<---- moving average reward (higher=better, less noisy)\n",
      "ppo/returns/mean:\t0.891294241\t<---- model-estimated average discounted reward\n",
      "objective/kl:\t9.068149567\t<---- how far we are from the original model (regularizer)\n",
      "\n",
      "------------------------------ STEP 31 ------------------------------\n",
      "rewards/mean:\t2.094695091\t<---- average reward over this batch (higher=better, noisy)\n",
      "rewards/moving_avg:\t1.950412552\t<---- moving average reward (higher=better, less noisy)\n",
      "ppo/returns/mean:\t0.929089785\t<---- model-estimated average discounted reward\n",
      "objective/kl:\t9.880468369\t<---- how far we are from the original model (regularizer)\n",
      "\n",
      "------------------------------ STEP 32 ------------------------------\n",
      "rewards/mean:\t2.365948677\t<---- average reward over this batch (higher=better, noisy)\n",
      "rewards/moving_avg:\t2.075073389\t<---- moving average reward (higher=better, less noisy)\n",
      "ppo/returns/mean:\t1.114958763\t<---- model-estimated average discounted reward\n",
      "objective/kl:\t10.457766533\t<---- how far we are from the original model (regularizer)\n",
      "\n",
      "------------------------------ STEP 33 ------------------------------\n",
      "rewards/mean:\t2.228222370\t<---- average reward over this batch (higher=better, noisy)\n",
      "rewards/moving_avg:\t2.121018084\t<---- moving average reward (higher=better, less noisy)\n",
      "ppo/returns/mean:\t1.156608820\t<---- model-estimated average discounted reward\n",
      "objective/kl:\t8.300477982\t<---- how far we are from the original model (regularizer)\n",
      "\n",
      "------------------------------ STEP 34 ------------------------------\n",
      "rewards/mean:\t1.720416546\t<---- average reward over this batch (higher=better, noisy)\n",
      "rewards/moving_avg:\t2.000837622\t<---- moving average reward (higher=better, less noisy)\n",
      "ppo/returns/mean:\t1.024806499\t<---- model-estimated average discounted reward\n",
      "objective/kl:\t8.963406563\t<---- how far we are from the original model (regularizer)\n",
      "\n",
      "------------------------------ STEP 35 ------------------------------\n",
      "rewards/mean:\t2.529391050\t<---- average reward over this batch (higher=better, noisy)\n",
      "rewards/moving_avg:\t2.159403651\t<---- moving average reward (higher=better, less noisy)\n",
      "ppo/returns/mean:\t1.172896385\t<---- model-estimated average discounted reward\n",
      "objective/kl:\t10.561518669\t<---- how far we are from the original model (regularizer)\n",
      "\n",
      "------------------------------ STEP 36 ------------------------------\n",
      "rewards/mean:\t1.879624367\t<---- average reward over this batch (higher=better, noisy)\n",
      "rewards/moving_avg:\t2.075469866\t<---- moving average reward (higher=better, less noisy)\n",
      "ppo/returns/mean:\t1.109236717\t<---- model-estimated average discounted reward\n",
      "objective/kl:\t10.240481377\t<---- how far we are from the original model (regularizer)\n",
      "\n",
      "------------------------------ STEP 37 ------------------------------\n",
      "rewards/mean:\t1.765894175\t<---- average reward over this batch (higher=better, noisy)\n",
      "rewards/moving_avg:\t1.982597158\t<---- moving average reward (higher=better, less noisy)\n",
      "ppo/returns/mean:\t1.131523013\t<---- model-estimated average discounted reward\n",
      "objective/kl:\t9.845664978\t<---- how far we are from the original model (regularizer)\n",
      "\n",
      "------------------------------ STEP 38 ------------------------------\n",
      "rewards/mean:\t2.754646301\t<---- average reward over this batch (higher=better, noisy)\n",
      "rewards/moving_avg:\t2.214211901\t<---- moving average reward (higher=better, less noisy)\n",
      "ppo/returns/mean:\t1.464484930\t<---- model-estimated average discounted reward\n",
      "objective/kl:\t10.816474915\t<---- how far we are from the original model (regularizer)\n",
      "\n",
      "------------------------------ STEP 39 ------------------------------\n",
      "rewards/mean:\t2.291404247\t<---- average reward over this batch (higher=better, noisy)\n",
      "rewards/moving_avg:\t2.237369605\t<---- moving average reward (higher=better, less noisy)\n",
      "ppo/returns/mean:\t1.310215950\t<---- model-estimated average discounted reward\n",
      "objective/kl:\t10.860911369\t<---- how far we are from the original model (regularizer)\n",
      "\n",
      "------------------------------ STEP 40 ------------------------------\n",
      "rewards/mean:\t2.314461231\t<---- average reward over this batch (higher=better, noisy)\n",
      "rewards/moving_avg:\t2.260497093\t<---- moving average reward (higher=better, less noisy)\n",
      "ppo/returns/mean:\t1.279628515\t<---- model-estimated average discounted reward\n",
      "objective/kl:\t12.066546440\t<---- how far we are from the original model (regularizer)\n",
      "\n",
      "------------------------------ STEP 41 ------------------------------\n",
      "rewards/mean:\t2.904500008\t<---- average reward over this batch (higher=better, noisy)\n",
      "rewards/moving_avg:\t2.453697967\t<---- moving average reward (higher=better, less noisy)\n",
      "ppo/returns/mean:\t1.500109553\t<---- model-estimated average discounted reward\n",
      "objective/kl:\t12.812685013\t<---- how far we are from the original model (regularizer)\n",
      "\n",
      "------------------------------ STEP 42 ------------------------------\n",
      "rewards/mean:\t1.950822830\t<---- average reward over this batch (higher=better, noisy)\n",
      "rewards/moving_avg:\t2.302835426\t<---- moving average reward (higher=better, less noisy)\n",
      "ppo/returns/mean:\t1.198748350\t<---- model-estimated average discounted reward\n",
      "objective/kl:\t10.818233490\t<---- how far we are from the original model (regularizer)\n",
      "\n",
      "------------------------------ STEP 43 ------------------------------\n",
      "rewards/mean:\t2.692695618\t<---- average reward over this batch (higher=better, noisy)\n",
      "rewards/moving_avg:\t2.419793484\t<---- moving average reward (higher=better, less noisy)\n",
      "ppo/returns/mean:\t1.521814585\t<---- model-estimated average discounted reward\n",
      "objective/kl:\t12.741892815\t<---- how far we are from the original model (regularizer)\n",
      "\n",
      "------------------------------ STEP 44 ------------------------------\n",
      "rewards/mean:\t2.599132538\t<---- average reward over this batch (higher=better, noisy)\n",
      "rewards/moving_avg:\t2.473595200\t<---- moving average reward (higher=better, less noisy)\n",
      "ppo/returns/mean:\t1.422767878\t<---- model-estimated average discounted reward\n",
      "objective/kl:\t11.853523254\t<---- how far we are from the original model (regularizer)\n",
      "\n",
      "------------------------------ STEP 45 ------------------------------\n",
      "rewards/mean:\t2.865289688\t<---- average reward over this batch (higher=better, noisy)\n",
      "rewards/moving_avg:\t2.591103546\t<---- moving average reward (higher=better, less noisy)\n",
      "ppo/returns/mean:\t1.392466307\t<---- model-estimated average discounted reward\n",
      "objective/kl:\t13.492511749\t<---- how far we are from the original model (regularizer)\n",
      "\n",
      "------------------------------ STEP 46 ------------------------------\n",
      "rewards/mean:\t2.773989201\t<---- average reward over this batch (higher=better, noisy)\n",
      "rewards/moving_avg:\t2.645969243\t<---- moving average reward (higher=better, less noisy)\n",
      "ppo/returns/mean:\t1.457245111\t<---- model-estimated average discounted reward\n",
      "objective/kl:\t12.932048798\t<---- how far we are from the original model (regularizer)\n",
      "\n",
      "------------------------------ STEP 47 ------------------------------\n",
      "rewards/mean:\t2.837753296\t<---- average reward over this batch (higher=better, noisy)\n",
      "rewards/moving_avg:\t2.703504459\t<---- moving average reward (higher=better, less noisy)\n",
      "ppo/returns/mean:\t1.434395432\t<---- model-estimated average discounted reward\n",
      "objective/kl:\t11.873093605\t<---- how far we are from the original model (regularizer)\n",
      "\n",
      "------------------------------ STEP 48 ------------------------------\n",
      "rewards/mean:\t2.751710892\t<---- average reward over this batch (higher=better, noisy)\n",
      "rewards/moving_avg:\t2.717966389\t<---- moving average reward (higher=better, less noisy)\n",
      "ppo/returns/mean:\t1.557179451\t<---- model-estimated average discounted reward\n",
      "objective/kl:\t12.319744110\t<---- how far we are from the original model (regularizer)\n",
      "\n",
      "------------------------------ STEP 49 ------------------------------\n",
      "rewards/mean:\t2.516990662\t<---- average reward over this batch (higher=better, noisy)\n",
      "rewards/moving_avg:\t2.657673670\t<---- moving average reward (higher=better, less noisy)\n",
      "ppo/returns/mean:\t1.436664224\t<---- model-estimated average discounted reward\n",
      "objective/kl:\t13.182184219\t<---- how far we are from the original model (regularizer)\n",
      "\n"
     ]
    }
   ],
   "source": [
    "from tqdm.auto import tqdm\n",
    "\n",
    "max_steps = 50   # can be insufficient for some tasks - watch your learning curves\n",
    "generation_kwargs = dict(\n",
    "    min_length=-1, max_new_tokens=128, do_sample=True, top_k=0, top_p=1.0, pad_token_id=main_tokenizer.eos_token_id)\n",
    "#                                  ^-- task-specific parameter!\n",
    "\n",
    "average_reward = 0\n",
    "gamma = 0.7\n",
    "\n",
    "with tqdm(enumerate(ppo_trainer.dataloader), total=max_steps) as progressbar:\n",
    "  # note: ppo_trainer.dataloader is just a regular dataloader of queries, no RL-specific magic :)\n",
    "  for epoch, batch in progressbar:\n",
    "    if epoch >= max_steps:\n",
    "        break\n",
    "\n",
    "    # Rollout stage: generate continuations from batch queries using main_model\n",
    "    response_tensors = ppo_trainer.generate(batch['input_ids'], **generation_kwargs)\n",
    "    # ^-- list of tensors of token ids from main model tokenizer\n",
    "\n",
    "    # de-tokenize responses to strings (since reward model uses a different tokenizer)\n",
    "    batch[\"response\"] = [main_tokenizer.decode(response.squeeze()) for response in response_tensors]\n",
    "    # note: response_tensors already contain query tokens, so we don't need to add queries manually.\n",
    "    # This may not be true for other tasks: check this manually by viewing batch[\"response\"] and batch[\"query\"]\n",
    "\n",
    "\n",
    "    # Evaluation stage - rewards for batch['response']\n",
    "    rewards = # <YOUR CODE HERE>\n",
    "\n",
    "    # Update stage\n",
    "    stats = ppo_trainer.step(batch['input_ids'], response_tensors, list(rewards.split(1)))\n",
    "    stats['rewards/mean'] = # <YOUR CODE HERE> - compute mean rewards for batch\n",
    "    average_reward = gamma * average_reward + (1 - gamma) * stats['rewards/mean']\n",
    "\n",
    "    print(\"-\" * 30, 'STEP', epoch, '-' * 30)\n",
    "    print(f'rewards/mean:\\t{stats[\"rewards/mean\"]:.9f}\\t<---- average reward over this batch (higher=better, noisy)')\n",
    "    print(f'rewards/moving_avg:\\t{average_reward:.9f}\\t<---- moving average reward (higher=better, less noisy)')\n",
    "    print(f'ppo/returns/mean:\\t{stats[\"ppo/returns/mean\"]:.9f}\\t<---- model-estimated average discounted reward')\n",
    "    print(f'objective/kl:\\t{stats[\"objective/kl\"]:.9f}\\t<---- how far we are from the original model (regularizer)')\n",
    "    print()\n",
    "\n",
    "    ppo_trainer.log_stats(stats, batch, list(rewards.split(1)))"
   ]
  },
  {
   "cell_type": "code",
   "execution_count": 21,
   "metadata": {
    "colab": {
     "base_uri": "https://localhost:8080/",
     "height": 144
    },
    "id": "Xoq0vpCxx5IZ",
    "outputId": "a01352f3-5b33-4a1a-9391-09abc4003868"
   },
   "outputs": [],
   "source": [
    "assert average_reward > 2"
   ]
  },
  {
   "cell_type": "markdown",
   "metadata": {},
   "source": [
    "And now test your PPO model:"
   ]
  },
  {
   "cell_type": "code",
   "execution_count": 42,
   "metadata": {
    "id": "_RV1n2vgiZP_"
   },
   "outputs": [
    {
     "name": "stdout",
     "output_type": "stream",
     "text": [
      "Sample: The movie was written by Omar Bakari of Ir Daily Show in Internet novels works, najd-as theor death, I didn't know when he made this thing, but it wasn't bad. def shines for Great F****** Good for He subordinates.<br /><br />This IS BEST AROUND! I was not expecting it to be a science movie it an A. failed to have a schtick to make it academically, it sucked and failed to do the admirable job with he job.<|endoftext|>\n",
      "Sample: The movie was really awful. I aren't referring to the tiradist antics with what adjects. The whole plot summary bombing and launching cost vulgomer that is Bochowski Centerll was completely boring, complete and completely pointless. The greatest waste of David Cameron movie theater, and the man with the most unstable personality I have ever seen in a movie.<|endoftext|>\n",
      "Sample: The movie was kind of boring...Some drawings looks like graphic shopgirls and they take some ends wrong in their new ways; in the beginning they do the original drawings, because they're too late. After the movie is over they have tattoos, pokes, etc... And some of the scenes are just so terrible... but the director is basically thrown in the trash bins for the reason that the visiting photo guy is all unloaded after the right time. It's like they try to kill the joyful animals these drawings for. But they wouldn't do that.<|endoftext|>\n",
      "Sample: The movie was galloping painfully slow in the ending, which burns them wounded with hideous experience. The first ending, predictable? I heard Random House would end with a direct insult to The Matrix. Could it be that same thing going on? You had to learn other things than that.<|endoftext|>\n",
      "Sample: The movie was all directed by Killer Mike. Not all of the little refugees from that movie. Horror claimed in person.<br /><br />This movie is bad bad bad bad BAD BAD. This's action-less rabbit trips and are psycho-flambulantly hurting. MAD!<|endoftext|>\n"
     ]
    }
   ],
   "source": [
    "inputs = [main_tokenizer.encode(\"The movie was\", return_tensors='pt').to(device)[0] for i in range(5)]\n",
    "\n",
    "response_tensors = ppo_trainer.generate(inputs, **generation_kwargs)\n",
    "batch[\"response\"] = [main_tokenizer.decode(response.squeeze()) for response in response_tensors]\n",
    "for sample in batch[\"response\"]:\n",
    "    print('Sample: {}'.format(sample))"
   ]
  }
 ],
 "metadata": {
  "accelerator": "GPU",
  "colab": {
   "gpuType": "T4",
   "provenance": []
  },
  "kernelspec": {
   "display_name": "venv-hw-05",
   "language": "python",
   "name": "venv-hw-05"
  },
  "language_info": {
   "codemirror_mode": {
    "name": "ipython",
    "version": 3
   },
   "file_extension": ".py",
   "mimetype": "text/x-python",
   "name": "python",
   "nbconvert_exporter": "python",
   "pygments_lexer": "ipython3",
   "version": "3.10.12"
  },
  "vscode": {
   "interpreter": {
    "hash": "4c8ff454cd947027f86954d72bf940c689a97dcc494eb53cfe4813862c6065fe"
   }
  },
  "widgets": {
   "application/vnd.jupyter.widget-state+json": {
    "0033ac842aab47e48f35151855112979": {
     "model_module": "@jupyter-widgets/controls",
     "model_module_version": "1.5.0",
     "model_name": "ProgressStyleModel",
     "state": {
      "_model_module": "@jupyter-widgets/controls",
      "_model_module_version": "1.5.0",
      "_model_name": "ProgressStyleModel",
      "_view_count": null,
      "_view_module": "@jupyter-widgets/base",
      "_view_module_version": "1.2.0",
      "_view_name": "StyleView",
      "bar_color": null,
      "description_width": ""
     }
    },
    "015524419b8a4a21bec9ca2462a1bdae": {
     "model_module": "@jupyter-widgets/controls",
     "model_module_version": "1.5.0",
     "model_name": "FloatProgressModel",
     "state": {
      "_dom_classes": [],
      "_model_module": "@jupyter-widgets/controls",
      "_model_module_version": "1.5.0",
      "_model_name": "FloatProgressModel",
      "_view_count": null,
      "_view_module": "@jupyter-widgets/controls",
      "_view_module_version": "1.5.0",
      "_view_name": "ProgressView",
      "bar_style": "success",
      "description": "",
      "description_tooltip": null,
      "layout": "IPY_MODEL_c3bb5755a3f44b519c4203430846e3d2",
      "max": 390,
      "min": 0,
      "orientation": "horizontal",
      "style": "IPY_MODEL_62e010f8c15d402aba1e045de8e8a50b",
      "value": 390
     }
    },
    "0970efe0166f40b4a4355f474bfe182a": {
     "model_module": "@jupyter-widgets/controls",
     "model_module_version": "1.5.0",
     "model_name": "HTMLModel",
     "state": {
      "_dom_classes": [],
      "_model_module": "@jupyter-widgets/controls",
      "_model_module_version": "1.5.0",
      "_model_name": "HTMLModel",
      "_view_count": null,
      "_view_module": "@jupyter-widgets/controls",
      "_view_module_version": "1.5.0",
      "_view_name": "HTMLView",
      "description": "",
      "description_tooltip": null,
      "layout": "IPY_MODEL_305a6c274faa46beb46e8a2eff32d0fe",
      "placeholder": "​",
      "style": "IPY_MODEL_5eec4a26a59c4b108bf576f21cad07f0",
      "value": " 24895/24895 [00:31&lt;00:00, 819.84 examples/s]"
     }
    },
    "0daa5834f1834dea9d5e40e6a3c4b376": {
     "model_module": "@jupyter-widgets/base",
     "model_module_version": "1.2.0",
     "model_name": "LayoutModel",
     "state": {
      "_model_module": "@jupyter-widgets/base",
      "_model_module_version": "1.2.0",
      "_model_name": "LayoutModel",
      "_view_count": null,
      "_view_module": "@jupyter-widgets/base",
      "_view_module_version": "1.2.0",
      "_view_name": "LayoutView",
      "align_content": null,
      "align_items": null,
      "align_self": null,
      "border": null,
      "bottom": null,
      "display": null,
      "flex": null,
      "flex_flow": null,
      "grid_area": null,
      "grid_auto_columns": null,
      "grid_auto_flow": null,
      "grid_auto_rows": null,
      "grid_column": null,
      "grid_gap": null,
      "grid_row": null,
      "grid_template_areas": null,
      "grid_template_columns": null,
      "grid_template_rows": null,
      "height": null,
      "justify_content": null,
      "justify_items": null,
      "left": null,
      "margin": null,
      "max_height": null,
      "max_width": null,
      "min_height": null,
      "min_width": null,
      "object_fit": null,
      "object_position": null,
      "order": null,
      "overflow": null,
      "overflow_x": null,
      "overflow_y": null,
      "padding": null,
      "right": null,
      "top": null,
      "visibility": null,
      "width": null
     }
    },
    "11b0022cfbaa488db010a2f22a17b7cc": {
     "model_module": "@jupyter-widgets/controls",
     "model_module_version": "1.5.0",
     "model_name": "HTMLModel",
     "state": {
      "_dom_classes": [],
      "_model_module": "@jupyter-widgets/controls",
      "_model_module_version": "1.5.0",
      "_model_name": "HTMLModel",
      "_view_count": null,
      "_view_module": "@jupyter-widgets/controls",
      "_view_module_version": "1.5.0",
      "_view_name": "HTMLView",
      "description": "",
      "description_tooltip": null,
      "layout": "IPY_MODEL_3fd865cd993242cdad016d9794a75f6e",
      "placeholder": "​",
      "style": "IPY_MODEL_f986e194b4944ead94190797f28015fe",
      "value": ""
     }
    },
    "11f6a941d42f4692a53f94f36aca62d5": {
     "model_module": "@jupyter-widgets/base",
     "model_module_version": "1.2.0",
     "model_name": "LayoutModel",
     "state": {
      "_model_module": "@jupyter-widgets/base",
      "_model_module_version": "1.2.0",
      "_model_name": "LayoutModel",
      "_view_count": null,
      "_view_module": "@jupyter-widgets/base",
      "_view_module_version": "1.2.0",
      "_view_name": "LayoutView",
      "align_content": null,
      "align_items": null,
      "align_self": null,
      "border": null,
      "bottom": null,
      "display": null,
      "flex": null,
      "flex_flow": null,
      "grid_area": null,
      "grid_auto_columns": null,
      "grid_auto_flow": null,
      "grid_auto_rows": null,
      "grid_column": null,
      "grid_gap": null,
      "grid_row": null,
      "grid_template_areas": null,
      "grid_template_columns": null,
      "grid_template_rows": null,
      "height": null,
      "justify_content": null,
      "justify_items": null,
      "left": null,
      "margin": null,
      "max_height": null,
      "max_width": null,
      "min_height": null,
      "min_width": null,
      "object_fit": null,
      "object_position": null,
      "order": null,
      "overflow": null,
      "overflow_x": null,
      "overflow_y": null,
      "padding": null,
      "right": null,
      "top": null,
      "visibility": null,
      "width": null
     }
    },
    "14bab8c0ec8f4b7ea41d4e74a31d280b": {
     "model_module": "@jupyter-widgets/controls",
     "model_module_version": "1.5.0",
     "model_name": "HBoxModel",
     "state": {
      "_dom_classes": [],
      "_model_module": "@jupyter-widgets/controls",
      "_model_module_version": "1.5.0",
      "_model_name": "HBoxModel",
      "_view_count": null,
      "_view_module": "@jupyter-widgets/controls",
      "_view_module_version": "1.5.0",
      "_view_name": "HBoxView",
      "box_style": "",
      "children": [
       "IPY_MODEL_c6d1254f73fc441897fb289661579fcc",
       "IPY_MODEL_4cdf531ea3f545ffa6e0d0f68389f653",
       "IPY_MODEL_a36ee9303657431093a8b33d713e9bd8"
      ],
      "layout": "IPY_MODEL_daad181cf83044a5bc285f7925176464"
     }
    },
    "305a6c274faa46beb46e8a2eff32d0fe": {
     "model_module": "@jupyter-widgets/base",
     "model_module_version": "1.2.0",
     "model_name": "LayoutModel",
     "state": {
      "_model_module": "@jupyter-widgets/base",
      "_model_module_version": "1.2.0",
      "_model_name": "LayoutModel",
      "_view_count": null,
      "_view_module": "@jupyter-widgets/base",
      "_view_module_version": "1.2.0",
      "_view_name": "LayoutView",
      "align_content": null,
      "align_items": null,
      "align_self": null,
      "border": null,
      "bottom": null,
      "display": null,
      "flex": null,
      "flex_flow": null,
      "grid_area": null,
      "grid_auto_columns": null,
      "grid_auto_flow": null,
      "grid_auto_rows": null,
      "grid_column": null,
      "grid_gap": null,
      "grid_row": null,
      "grid_template_areas": null,
      "grid_template_columns": null,
      "grid_template_rows": null,
      "height": null,
      "justify_content": null,
      "justify_items": null,
      "left": null,
      "margin": null,
      "max_height": null,
      "max_width": null,
      "min_height": null,
      "min_width": null,
      "object_fit": null,
      "object_position": null,
      "order": null,
      "overflow": null,
      "overflow_x": null,
      "overflow_y": null,
      "padding": null,
      "right": null,
      "top": null,
      "visibility": null,
      "width": null
     }
    },
    "351c280e3e0644e08478893632ca878c": {
     "model_module": "@jupyter-widgets/controls",
     "model_module_version": "1.5.0",
     "model_name": "HTMLModel",
     "state": {
      "_dom_classes": [],
      "_model_module": "@jupyter-widgets/controls",
      "_model_module_version": "1.5.0",
      "_model_name": "HTMLModel",
      "_view_count": null,
      "_view_module": "@jupyter-widgets/controls",
      "_view_module_version": "1.5.0",
      "_view_name": "HTMLView",
      "description": "",
      "description_tooltip": null,
      "layout": "IPY_MODEL_579edffceded4184ab0009cef5e8d87e",
      "placeholder": "​",
      "style": "IPY_MODEL_83eac7e3fc554ea09c2a41452cad2cde",
      "value": " 391/? [02:18&lt;00:00,  3.09it/s]"
     }
    },
    "3fd865cd993242cdad016d9794a75f6e": {
     "model_module": "@jupyter-widgets/base",
     "model_module_version": "1.2.0",
     "model_name": "LayoutModel",
     "state": {
      "_model_module": "@jupyter-widgets/base",
      "_model_module_version": "1.2.0",
      "_model_name": "LayoutModel",
      "_view_count": null,
      "_view_module": "@jupyter-widgets/base",
      "_view_module_version": "1.2.0",
      "_view_name": "LayoutView",
      "align_content": null,
      "align_items": null,
      "align_self": null,
      "border": null,
      "bottom": null,
      "display": null,
      "flex": null,
      "flex_flow": null,
      "grid_area": null,
      "grid_auto_columns": null,
      "grid_auto_flow": null,
      "grid_auto_rows": null,
      "grid_column": null,
      "grid_gap": null,
      "grid_row": null,
      "grid_template_areas": null,
      "grid_template_columns": null,
      "grid_template_rows": null,
      "height": null,
      "justify_content": null,
      "justify_items": null,
      "left": null,
      "margin": null,
      "max_height": null,
      "max_width": null,
      "min_height": null,
      "min_width": null,
      "object_fit": null,
      "object_position": null,
      "order": null,
      "overflow": null,
      "overflow_x": null,
      "overflow_y": null,
      "padding": null,
      "right": null,
      "top": null,
      "visibility": null,
      "width": null
     }
    },
    "4cdf531ea3f545ffa6e0d0f68389f653": {
     "model_module": "@jupyter-widgets/controls",
     "model_module_version": "1.5.0",
     "model_name": "FloatProgressModel",
     "state": {
      "_dom_classes": [],
      "_model_module": "@jupyter-widgets/controls",
      "_model_module_version": "1.5.0",
      "_model_name": "FloatProgressModel",
      "_view_count": null,
      "_view_module": "@jupyter-widgets/controls",
      "_view_module_version": "1.5.0",
      "_view_name": "ProgressView",
      "bar_style": "success",
      "description": "",
      "description_tooltip": null,
      "layout": "IPY_MODEL_f67d8a3f95074b01853851dd5b41cfa6",
      "max": 25000,
      "min": 0,
      "orientation": "horizontal",
      "style": "IPY_MODEL_b4b6c04b33e44613a3736505a4899d71",
      "value": 25000
     }
    },
    "4ddb8f654c5a45e38c588cac213d0eb8": {
     "model_module": "@jupyter-widgets/controls",
     "model_module_version": "1.5.0",
     "model_name": "DescriptionStyleModel",
     "state": {
      "_model_module": "@jupyter-widgets/controls",
      "_model_module_version": "1.5.0",
      "_model_name": "DescriptionStyleModel",
      "_view_count": null,
      "_view_module": "@jupyter-widgets/base",
      "_view_module_version": "1.2.0",
      "_view_name": "StyleView",
      "description_width": ""
     }
    },
    "5470a457a3e2466789ab2f3ca3289daa": {
     "model_module": "@jupyter-widgets/controls",
     "model_module_version": "1.5.0",
     "model_name": "HBoxModel",
     "state": {
      "_dom_classes": [],
      "_model_module": "@jupyter-widgets/controls",
      "_model_module_version": "1.5.0",
      "_model_name": "HBoxModel",
      "_view_count": null,
      "_view_module": "@jupyter-widgets/controls",
      "_view_module_version": "1.5.0",
      "_view_name": "HBoxView",
      "box_style": "",
      "children": [
       "IPY_MODEL_afb680bcb0fc4f4a94f04b5c086f77c6",
       "IPY_MODEL_e76aa419c1864ab7906f58c09b53efb8",
       "IPY_MODEL_0970efe0166f40b4a4355f474bfe182a"
      ],
      "layout": "IPY_MODEL_64858c8a884d4e0792e0f6894015ead5"
     }
    },
    "5482e18aa0564a50a7599875aa7e053f": {
     "model_module": "@jupyter-widgets/base",
     "model_module_version": "1.2.0",
     "model_name": "LayoutModel",
     "state": {
      "_model_module": "@jupyter-widgets/base",
      "_model_module_version": "1.2.0",
      "_model_name": "LayoutModel",
      "_view_count": null,
      "_view_module": "@jupyter-widgets/base",
      "_view_module_version": "1.2.0",
      "_view_name": "LayoutView",
      "align_content": null,
      "align_items": null,
      "align_self": null,
      "border": null,
      "bottom": null,
      "display": null,
      "flex": null,
      "flex_flow": null,
      "grid_area": null,
      "grid_auto_columns": null,
      "grid_auto_flow": null,
      "grid_auto_rows": null,
      "grid_column": null,
      "grid_gap": null,
      "grid_row": null,
      "grid_template_areas": null,
      "grid_template_columns": null,
      "grid_template_rows": null,
      "height": null,
      "justify_content": null,
      "justify_items": null,
      "left": null,
      "margin": null,
      "max_height": null,
      "max_width": null,
      "min_height": null,
      "min_width": null,
      "object_fit": null,
      "object_position": null,
      "order": null,
      "overflow": null,
      "overflow_x": null,
      "overflow_y": null,
      "padding": null,
      "right": null,
      "top": null,
      "visibility": null,
      "width": null
     }
    },
    "579edffceded4184ab0009cef5e8d87e": {
     "model_module": "@jupyter-widgets/base",
     "model_module_version": "1.2.0",
     "model_name": "LayoutModel",
     "state": {
      "_model_module": "@jupyter-widgets/base",
      "_model_module_version": "1.2.0",
      "_model_name": "LayoutModel",
      "_view_count": null,
      "_view_module": "@jupyter-widgets/base",
      "_view_module_version": "1.2.0",
      "_view_name": "LayoutView",
      "align_content": null,
      "align_items": null,
      "align_self": null,
      "border": null,
      "bottom": null,
      "display": null,
      "flex": null,
      "flex_flow": null,
      "grid_area": null,
      "grid_auto_columns": null,
      "grid_auto_flow": null,
      "grid_auto_rows": null,
      "grid_column": null,
      "grid_gap": null,
      "grid_row": null,
      "grid_template_areas": null,
      "grid_template_columns": null,
      "grid_template_rows": null,
      "height": null,
      "justify_content": null,
      "justify_items": null,
      "left": null,
      "margin": null,
      "max_height": null,
      "max_width": null,
      "min_height": null,
      "min_width": null,
      "object_fit": null,
      "object_position": null,
      "order": null,
      "overflow": null,
      "overflow_x": null,
      "overflow_y": null,
      "padding": null,
      "right": null,
      "top": null,
      "visibility": null,
      "width": null
     }
    },
    "5dab60bfa0f54cadbc163b4331732185": {
     "model_module": "@jupyter-widgets/base",
     "model_module_version": "1.2.0",
     "model_name": "LayoutModel",
     "state": {
      "_model_module": "@jupyter-widgets/base",
      "_model_module_version": "1.2.0",
      "_model_name": "LayoutModel",
      "_view_count": null,
      "_view_module": "@jupyter-widgets/base",
      "_view_module_version": "1.2.0",
      "_view_name": "LayoutView",
      "align_content": null,
      "align_items": null,
      "align_self": null,
      "border": null,
      "bottom": null,
      "display": null,
      "flex": null,
      "flex_flow": null,
      "grid_area": null,
      "grid_auto_columns": null,
      "grid_auto_flow": null,
      "grid_auto_rows": null,
      "grid_column": null,
      "grid_gap": null,
      "grid_row": null,
      "grid_template_areas": null,
      "grid_template_columns": null,
      "grid_template_rows": null,
      "height": null,
      "justify_content": null,
      "justify_items": null,
      "left": null,
      "margin": null,
      "max_height": null,
      "max_width": null,
      "min_height": null,
      "min_width": null,
      "object_fit": null,
      "object_position": null,
      "order": null,
      "overflow": null,
      "overflow_x": null,
      "overflow_y": null,
      "padding": null,
      "right": null,
      "top": null,
      "visibility": null,
      "width": null
     }
    },
    "5eec4a26a59c4b108bf576f21cad07f0": {
     "model_module": "@jupyter-widgets/controls",
     "model_module_version": "1.5.0",
     "model_name": "DescriptionStyleModel",
     "state": {
      "_model_module": "@jupyter-widgets/controls",
      "_model_module_version": "1.5.0",
      "_model_name": "DescriptionStyleModel",
      "_view_count": null,
      "_view_module": "@jupyter-widgets/base",
      "_view_module_version": "1.2.0",
      "_view_name": "StyleView",
      "description_width": ""
     }
    },
    "60cbfb4df6da47d4b8b9624047b91cf2": {
     "model_module": "@jupyter-widgets/base",
     "model_module_version": "1.2.0",
     "model_name": "LayoutModel",
     "state": {
      "_model_module": "@jupyter-widgets/base",
      "_model_module_version": "1.2.0",
      "_model_name": "LayoutModel",
      "_view_count": null,
      "_view_module": "@jupyter-widgets/base",
      "_view_module_version": "1.2.0",
      "_view_name": "LayoutView",
      "align_content": null,
      "align_items": null,
      "align_self": null,
      "border": null,
      "bottom": null,
      "display": null,
      "flex": null,
      "flex_flow": null,
      "grid_area": null,
      "grid_auto_columns": null,
      "grid_auto_flow": null,
      "grid_auto_rows": null,
      "grid_column": null,
      "grid_gap": null,
      "grid_row": null,
      "grid_template_areas": null,
      "grid_template_columns": null,
      "grid_template_rows": null,
      "height": null,
      "justify_content": null,
      "justify_items": null,
      "left": null,
      "margin": null,
      "max_height": null,
      "max_width": null,
      "min_height": null,
      "min_width": null,
      "object_fit": null,
      "object_position": null,
      "order": null,
      "overflow": null,
      "overflow_x": null,
      "overflow_y": null,
      "padding": null,
      "right": null,
      "top": null,
      "visibility": null,
      "width": null
     }
    },
    "62e010f8c15d402aba1e045de8e8a50b": {
     "model_module": "@jupyter-widgets/controls",
     "model_module_version": "1.5.0",
     "model_name": "ProgressStyleModel",
     "state": {
      "_model_module": "@jupyter-widgets/controls",
      "_model_module_version": "1.5.0",
      "_model_name": "ProgressStyleModel",
      "_view_count": null,
      "_view_module": "@jupyter-widgets/base",
      "_view_module_version": "1.2.0",
      "_view_name": "StyleView",
      "bar_color": null,
      "description_width": ""
     }
    },
    "64858c8a884d4e0792e0f6894015ead5": {
     "model_module": "@jupyter-widgets/base",
     "model_module_version": "1.2.0",
     "model_name": "LayoutModel",
     "state": {
      "_model_module": "@jupyter-widgets/base",
      "_model_module_version": "1.2.0",
      "_model_name": "LayoutModel",
      "_view_count": null,
      "_view_module": "@jupyter-widgets/base",
      "_view_module_version": "1.2.0",
      "_view_name": "LayoutView",
      "align_content": null,
      "align_items": null,
      "align_self": null,
      "border": null,
      "bottom": null,
      "display": null,
      "flex": null,
      "flex_flow": null,
      "grid_area": null,
      "grid_auto_columns": null,
      "grid_auto_flow": null,
      "grid_auto_rows": null,
      "grid_column": null,
      "grid_gap": null,
      "grid_row": null,
      "grid_template_areas": null,
      "grid_template_columns": null,
      "grid_template_rows": null,
      "height": null,
      "justify_content": null,
      "justify_items": null,
      "left": null,
      "margin": null,
      "max_height": null,
      "max_width": null,
      "min_height": null,
      "min_width": null,
      "object_fit": null,
      "object_position": null,
      "order": null,
      "overflow": null,
      "overflow_x": null,
      "overflow_y": null,
      "padding": null,
      "right": null,
      "top": null,
      "visibility": null,
      "width": null
     }
    },
    "6d693232f3c048ad944a47ee5742187c": {
     "model_module": "@jupyter-widgets/controls",
     "model_module_version": "1.5.0",
     "model_name": "DescriptionStyleModel",
     "state": {
      "_model_module": "@jupyter-widgets/controls",
      "_model_module_version": "1.5.0",
      "_model_name": "DescriptionStyleModel",
      "_view_count": null,
      "_view_module": "@jupyter-widgets/base",
      "_view_module_version": "1.2.0",
      "_view_name": "StyleView",
      "description_width": ""
     }
    },
    "73db6e451d7c401d8b341c4352809e20": {
     "model_module": "@jupyter-widgets/controls",
     "model_module_version": "1.5.0",
     "model_name": "DescriptionStyleModel",
     "state": {
      "_model_module": "@jupyter-widgets/controls",
      "_model_module_version": "1.5.0",
      "_model_name": "DescriptionStyleModel",
      "_view_count": null,
      "_view_module": "@jupyter-widgets/base",
      "_view_module_version": "1.2.0",
      "_view_name": "StyleView",
      "description_width": ""
     }
    },
    "7b5922a62de94ee29cb6eefc9193190d": {
     "model_module": "@jupyter-widgets/controls",
     "model_module_version": "1.5.0",
     "model_name": "HTMLModel",
     "state": {
      "_dom_classes": [],
      "_model_module": "@jupyter-widgets/controls",
      "_model_module_version": "1.5.0",
      "_model_name": "HTMLModel",
      "_view_count": null,
      "_view_module": "@jupyter-widgets/controls",
      "_view_module_version": "1.5.0",
      "_view_name": "HTMLView",
      "description": "",
      "description_tooltip": null,
      "layout": "IPY_MODEL_60cbfb4df6da47d4b8b9624047b91cf2",
      "placeholder": "​",
      "style": "IPY_MODEL_73db6e451d7c401d8b341c4352809e20",
      "value": " 30/50 [25:39&lt;15:10, 45.54s/it]"
     }
    },
    "83eac7e3fc554ea09c2a41452cad2cde": {
     "model_module": "@jupyter-widgets/controls",
     "model_module_version": "1.5.0",
     "model_name": "DescriptionStyleModel",
     "state": {
      "_model_module": "@jupyter-widgets/controls",
      "_model_module_version": "1.5.0",
      "_model_name": "DescriptionStyleModel",
      "_view_count": null,
      "_view_module": "@jupyter-widgets/base",
      "_view_module_version": "1.2.0",
      "_view_name": "StyleView",
      "description_width": ""
     }
    },
    "90b8fdb8b9fb438f84c4f390683b0f3f": {
     "model_module": "@jupyter-widgets/controls",
     "model_module_version": "1.5.0",
     "model_name": "HBoxModel",
     "state": {
      "_dom_classes": [],
      "_model_module": "@jupyter-widgets/controls",
      "_model_module_version": "1.5.0",
      "_model_name": "HBoxModel",
      "_view_count": null,
      "_view_module": "@jupyter-widgets/controls",
      "_view_module_version": "1.5.0",
      "_view_name": "HBoxView",
      "box_style": "",
      "children": [
       "IPY_MODEL_af3a05a0c4ca49a385776d6c42427f8a",
       "IPY_MODEL_ce8dea39d6b44be18e8f94392f94e7ce",
       "IPY_MODEL_7b5922a62de94ee29cb6eefc9193190d"
      ],
      "layout": "IPY_MODEL_0daa5834f1834dea9d5e40e6a3c4b376"
     }
    },
    "9123a18088fb454d915218f37f72a790": {
     "model_module": "@jupyter-widgets/base",
     "model_module_version": "1.2.0",
     "model_name": "LayoutModel",
     "state": {
      "_model_module": "@jupyter-widgets/base",
      "_model_module_version": "1.2.0",
      "_model_name": "LayoutModel",
      "_view_count": null,
      "_view_module": "@jupyter-widgets/base",
      "_view_module_version": "1.2.0",
      "_view_name": "LayoutView",
      "align_content": null,
      "align_items": null,
      "align_self": null,
      "border": null,
      "bottom": null,
      "display": null,
      "flex": null,
      "flex_flow": null,
      "grid_area": null,
      "grid_auto_columns": null,
      "grid_auto_flow": null,
      "grid_auto_rows": null,
      "grid_column": null,
      "grid_gap": null,
      "grid_row": null,
      "grid_template_areas": null,
      "grid_template_columns": null,
      "grid_template_rows": null,
      "height": null,
      "justify_content": null,
      "justify_items": null,
      "left": null,
      "margin": null,
      "max_height": null,
      "max_width": null,
      "min_height": null,
      "min_width": null,
      "object_fit": null,
      "object_position": null,
      "order": null,
      "overflow": null,
      "overflow_x": null,
      "overflow_y": null,
      "padding": null,
      "right": null,
      "top": null,
      "visibility": null,
      "width": null
     }
    },
    "a0134acdd9764db08cdb145a3b816eb3": {
     "model_module": "@jupyter-widgets/base",
     "model_module_version": "1.2.0",
     "model_name": "LayoutModel",
     "state": {
      "_model_module": "@jupyter-widgets/base",
      "_model_module_version": "1.2.0",
      "_model_name": "LayoutModel",
      "_view_count": null,
      "_view_module": "@jupyter-widgets/base",
      "_view_module_version": "1.2.0",
      "_view_name": "LayoutView",
      "align_content": null,
      "align_items": null,
      "align_self": null,
      "border": null,
      "bottom": null,
      "display": null,
      "flex": null,
      "flex_flow": null,
      "grid_area": null,
      "grid_auto_columns": null,
      "grid_auto_flow": null,
      "grid_auto_rows": null,
      "grid_column": null,
      "grid_gap": null,
      "grid_row": null,
      "grid_template_areas": null,
      "grid_template_columns": null,
      "grid_template_rows": null,
      "height": null,
      "justify_content": null,
      "justify_items": null,
      "left": null,
      "margin": null,
      "max_height": null,
      "max_width": null,
      "min_height": null,
      "min_width": null,
      "object_fit": null,
      "object_position": null,
      "order": null,
      "overflow": null,
      "overflow_x": null,
      "overflow_y": null,
      "padding": null,
      "right": null,
      "top": null,
      "visibility": null,
      "width": null
     }
    },
    "a35d7bf116124060b525d12cd119ac5b": {
     "model_module": "@jupyter-widgets/controls",
     "model_module_version": "1.5.0",
     "model_name": "ProgressStyleModel",
     "state": {
      "_model_module": "@jupyter-widgets/controls",
      "_model_module_version": "1.5.0",
      "_model_name": "ProgressStyleModel",
      "_view_count": null,
      "_view_module": "@jupyter-widgets/base",
      "_view_module_version": "1.2.0",
      "_view_name": "StyleView",
      "bar_color": null,
      "description_width": ""
     }
    },
    "a36ee9303657431093a8b33d713e9bd8": {
     "model_module": "@jupyter-widgets/controls",
     "model_module_version": "1.5.0",
     "model_name": "HTMLModel",
     "state": {
      "_dom_classes": [],
      "_model_module": "@jupyter-widgets/controls",
      "_model_module_version": "1.5.0",
      "_model_name": "HTMLModel",
      "_view_count": null,
      "_view_module": "@jupyter-widgets/controls",
      "_view_module_version": "1.5.0",
      "_view_name": "HTMLView",
      "description": "",
      "description_tooltip": null,
      "layout": "IPY_MODEL_f49a71e7d53342809dc887e254aa9d9f",
      "placeholder": "​",
      "style": "IPY_MODEL_c52d8a32faa54cd9b7541441d3551ded",
      "value": " 25000/25000 [00:00&lt;00:00, 9679.51 examples/s]"
     }
    },
    "af3a05a0c4ca49a385776d6c42427f8a": {
     "model_module": "@jupyter-widgets/controls",
     "model_module_version": "1.5.0",
     "model_name": "HTMLModel",
     "state": {
      "_dom_classes": [],
      "_model_module": "@jupyter-widgets/controls",
      "_model_module_version": "1.5.0",
      "_model_name": "HTMLModel",
      "_view_count": null,
      "_view_module": "@jupyter-widgets/controls",
      "_view_module_version": "1.5.0",
      "_view_name": "HTMLView",
      "description": "",
      "description_tooltip": null,
      "layout": "IPY_MODEL_11f6a941d42f4692a53f94f36aca62d5",
      "placeholder": "​",
      "style": "IPY_MODEL_6d693232f3c048ad944a47ee5742187c",
      "value": " 60%"
     }
    },
    "afb680bcb0fc4f4a94f04b5c086f77c6": {
     "model_module": "@jupyter-widgets/controls",
     "model_module_version": "1.5.0",
     "model_name": "HTMLModel",
     "state": {
      "_dom_classes": [],
      "_model_module": "@jupyter-widgets/controls",
      "_model_module_version": "1.5.0",
      "_model_name": "HTMLModel",
      "_view_count": null,
      "_view_module": "@jupyter-widgets/controls",
      "_view_module_version": "1.5.0",
      "_view_name": "HTMLView",
      "description": "",
      "description_tooltip": null,
      "layout": "IPY_MODEL_a0134acdd9764db08cdb145a3b816eb3",
      "placeholder": "​",
      "style": "IPY_MODEL_b07ef37f928646c7807471849cf6f71a",
      "value": "Map: 100%"
     }
    },
    "b07ef37f928646c7807471849cf6f71a": {
     "model_module": "@jupyter-widgets/controls",
     "model_module_version": "1.5.0",
     "model_name": "DescriptionStyleModel",
     "state": {
      "_model_module": "@jupyter-widgets/controls",
      "_model_module_version": "1.5.0",
      "_model_name": "DescriptionStyleModel",
      "_view_count": null,
      "_view_module": "@jupyter-widgets/base",
      "_view_module_version": "1.2.0",
      "_view_name": "StyleView",
      "description_width": ""
     }
    },
    "b4b6c04b33e44613a3736505a4899d71": {
     "model_module": "@jupyter-widgets/controls",
     "model_module_version": "1.5.0",
     "model_name": "ProgressStyleModel",
     "state": {
      "_model_module": "@jupyter-widgets/controls",
      "_model_module_version": "1.5.0",
      "_model_name": "ProgressStyleModel",
      "_view_count": null,
      "_view_module": "@jupyter-widgets/base",
      "_view_module_version": "1.2.0",
      "_view_name": "StyleView",
      "bar_color": null,
      "description_width": ""
     }
    },
    "c3bb5755a3f44b519c4203430846e3d2": {
     "model_module": "@jupyter-widgets/base",
     "model_module_version": "1.2.0",
     "model_name": "LayoutModel",
     "state": {
      "_model_module": "@jupyter-widgets/base",
      "_model_module_version": "1.2.0",
      "_model_name": "LayoutModel",
      "_view_count": null,
      "_view_module": "@jupyter-widgets/base",
      "_view_module_version": "1.2.0",
      "_view_name": "LayoutView",
      "align_content": null,
      "align_items": null,
      "align_self": null,
      "border": null,
      "bottom": null,
      "display": null,
      "flex": null,
      "flex_flow": null,
      "grid_area": null,
      "grid_auto_columns": null,
      "grid_auto_flow": null,
      "grid_auto_rows": null,
      "grid_column": null,
      "grid_gap": null,
      "grid_row": null,
      "grid_template_areas": null,
      "grid_template_columns": null,
      "grid_template_rows": null,
      "height": null,
      "justify_content": null,
      "justify_items": null,
      "left": null,
      "margin": null,
      "max_height": null,
      "max_width": null,
      "min_height": null,
      "min_width": null,
      "object_fit": null,
      "object_position": null,
      "order": null,
      "overflow": null,
      "overflow_x": null,
      "overflow_y": null,
      "padding": null,
      "right": null,
      "top": null,
      "visibility": null,
      "width": null
     }
    },
    "c52d8a32faa54cd9b7541441d3551ded": {
     "model_module": "@jupyter-widgets/controls",
     "model_module_version": "1.5.0",
     "model_name": "DescriptionStyleModel",
     "state": {
      "_model_module": "@jupyter-widgets/controls",
      "_model_module_version": "1.5.0",
      "_model_name": "DescriptionStyleModel",
      "_view_count": null,
      "_view_module": "@jupyter-widgets/base",
      "_view_module_version": "1.2.0",
      "_view_name": "StyleView",
      "description_width": ""
     }
    },
    "c6d1254f73fc441897fb289661579fcc": {
     "model_module": "@jupyter-widgets/controls",
     "model_module_version": "1.5.0",
     "model_name": "HTMLModel",
     "state": {
      "_dom_classes": [],
      "_model_module": "@jupyter-widgets/controls",
      "_model_module_version": "1.5.0",
      "_model_name": "HTMLModel",
      "_view_count": null,
      "_view_module": "@jupyter-widgets/controls",
      "_view_module_version": "1.5.0",
      "_view_name": "HTMLView",
      "description": "",
      "description_tooltip": null,
      "layout": "IPY_MODEL_5482e18aa0564a50a7599875aa7e053f",
      "placeholder": "​",
      "style": "IPY_MODEL_4ddb8f654c5a45e38c588cac213d0eb8",
      "value": "Filter: 100%"
     }
    },
    "ce8dea39d6b44be18e8f94392f94e7ce": {
     "model_module": "@jupyter-widgets/controls",
     "model_module_version": "1.5.0",
     "model_name": "FloatProgressModel",
     "state": {
      "_dom_classes": [],
      "_model_module": "@jupyter-widgets/controls",
      "_model_module_version": "1.5.0",
      "_model_name": "FloatProgressModel",
      "_view_count": null,
      "_view_module": "@jupyter-widgets/controls",
      "_view_module_version": "1.5.0",
      "_view_name": "ProgressView",
      "bar_style": "",
      "description": "",
      "description_tooltip": null,
      "layout": "IPY_MODEL_d833f6bf46c04b64acd1c04165c8f813",
      "max": 50,
      "min": 0,
      "orientation": "horizontal",
      "style": "IPY_MODEL_0033ac842aab47e48f35151855112979",
      "value": 30
     }
    },
    "d833f6bf46c04b64acd1c04165c8f813": {
     "model_module": "@jupyter-widgets/base",
     "model_module_version": "1.2.0",
     "model_name": "LayoutModel",
     "state": {
      "_model_module": "@jupyter-widgets/base",
      "_model_module_version": "1.2.0",
      "_model_name": "LayoutModel",
      "_view_count": null,
      "_view_module": "@jupyter-widgets/base",
      "_view_module_version": "1.2.0",
      "_view_name": "LayoutView",
      "align_content": null,
      "align_items": null,
      "align_self": null,
      "border": null,
      "bottom": null,
      "display": null,
      "flex": null,
      "flex_flow": null,
      "grid_area": null,
      "grid_auto_columns": null,
      "grid_auto_flow": null,
      "grid_auto_rows": null,
      "grid_column": null,
      "grid_gap": null,
      "grid_row": null,
      "grid_template_areas": null,
      "grid_template_columns": null,
      "grid_template_rows": null,
      "height": null,
      "justify_content": null,
      "justify_items": null,
      "left": null,
      "margin": null,
      "max_height": null,
      "max_width": null,
      "min_height": null,
      "min_width": null,
      "object_fit": null,
      "object_position": null,
      "order": null,
      "overflow": null,
      "overflow_x": null,
      "overflow_y": null,
      "padding": null,
      "right": null,
      "top": null,
      "visibility": null,
      "width": null
     }
    },
    "daad181cf83044a5bc285f7925176464": {
     "model_module": "@jupyter-widgets/base",
     "model_module_version": "1.2.0",
     "model_name": "LayoutModel",
     "state": {
      "_model_module": "@jupyter-widgets/base",
      "_model_module_version": "1.2.0",
      "_model_name": "LayoutModel",
      "_view_count": null,
      "_view_module": "@jupyter-widgets/base",
      "_view_module_version": "1.2.0",
      "_view_name": "LayoutView",
      "align_content": null,
      "align_items": null,
      "align_self": null,
      "border": null,
      "bottom": null,
      "display": null,
      "flex": null,
      "flex_flow": null,
      "grid_area": null,
      "grid_auto_columns": null,
      "grid_auto_flow": null,
      "grid_auto_rows": null,
      "grid_column": null,
      "grid_gap": null,
      "grid_row": null,
      "grid_template_areas": null,
      "grid_template_columns": null,
      "grid_template_rows": null,
      "height": null,
      "justify_content": null,
      "justify_items": null,
      "left": null,
      "margin": null,
      "max_height": null,
      "max_width": null,
      "min_height": null,
      "min_width": null,
      "object_fit": null,
      "object_position": null,
      "order": null,
      "overflow": null,
      "overflow_x": null,
      "overflow_y": null,
      "padding": null,
      "right": null,
      "top": null,
      "visibility": null,
      "width": null
     }
    },
    "e76aa419c1864ab7906f58c09b53efb8": {
     "model_module": "@jupyter-widgets/controls",
     "model_module_version": "1.5.0",
     "model_name": "FloatProgressModel",
     "state": {
      "_dom_classes": [],
      "_model_module": "@jupyter-widgets/controls",
      "_model_module_version": "1.5.0",
      "_model_name": "FloatProgressModel",
      "_view_count": null,
      "_view_module": "@jupyter-widgets/controls",
      "_view_module_version": "1.5.0",
      "_view_name": "ProgressView",
      "bar_style": "success",
      "description": "",
      "description_tooltip": null,
      "layout": "IPY_MODEL_5dab60bfa0f54cadbc163b4331732185",
      "max": 24895,
      "min": 0,
      "orientation": "horizontal",
      "style": "IPY_MODEL_a35d7bf116124060b525d12cd119ac5b",
      "value": 24895
     }
    },
    "f49a71e7d53342809dc887e254aa9d9f": {
     "model_module": "@jupyter-widgets/base",
     "model_module_version": "1.2.0",
     "model_name": "LayoutModel",
     "state": {
      "_model_module": "@jupyter-widgets/base",
      "_model_module_version": "1.2.0",
      "_model_name": "LayoutModel",
      "_view_count": null,
      "_view_module": "@jupyter-widgets/base",
      "_view_module_version": "1.2.0",
      "_view_name": "LayoutView",
      "align_content": null,
      "align_items": null,
      "align_self": null,
      "border": null,
      "bottom": null,
      "display": null,
      "flex": null,
      "flex_flow": null,
      "grid_area": null,
      "grid_auto_columns": null,
      "grid_auto_flow": null,
      "grid_auto_rows": null,
      "grid_column": null,
      "grid_gap": null,
      "grid_row": null,
      "grid_template_areas": null,
      "grid_template_columns": null,
      "grid_template_rows": null,
      "height": null,
      "justify_content": null,
      "justify_items": null,
      "left": null,
      "margin": null,
      "max_height": null,
      "max_width": null,
      "min_height": null,
      "min_width": null,
      "object_fit": null,
      "object_position": null,
      "order": null,
      "overflow": null,
      "overflow_x": null,
      "overflow_y": null,
      "padding": null,
      "right": null,
      "top": null,
      "visibility": null,
      "width": null
     }
    },
    "f67d8a3f95074b01853851dd5b41cfa6": {
     "model_module": "@jupyter-widgets/base",
     "model_module_version": "1.2.0",
     "model_name": "LayoutModel",
     "state": {
      "_model_module": "@jupyter-widgets/base",
      "_model_module_version": "1.2.0",
      "_model_name": "LayoutModel",
      "_view_count": null,
      "_view_module": "@jupyter-widgets/base",
      "_view_module_version": "1.2.0",
      "_view_name": "LayoutView",
      "align_content": null,
      "align_items": null,
      "align_self": null,
      "border": null,
      "bottom": null,
      "display": null,
      "flex": null,
      "flex_flow": null,
      "grid_area": null,
      "grid_auto_columns": null,
      "grid_auto_flow": null,
      "grid_auto_rows": null,
      "grid_column": null,
      "grid_gap": null,
      "grid_row": null,
      "grid_template_areas": null,
      "grid_template_columns": null,
      "grid_template_rows": null,
      "height": null,
      "justify_content": null,
      "justify_items": null,
      "left": null,
      "margin": null,
      "max_height": null,
      "max_width": null,
      "min_height": null,
      "min_width": null,
      "object_fit": null,
      "object_position": null,
      "order": null,
      "overflow": null,
      "overflow_x": null,
      "overflow_y": null,
      "padding": null,
      "right": null,
      "top": null,
      "visibility": null,
      "width": null
     }
    },
    "f70928bb66b24415ad03f49633775e64": {
     "model_module": "@jupyter-widgets/controls",
     "model_module_version": "1.5.0",
     "model_name": "HBoxModel",
     "state": {
      "_dom_classes": [],
      "_model_module": "@jupyter-widgets/controls",
      "_model_module_version": "1.5.0",
      "_model_name": "HBoxModel",
      "_view_count": null,
      "_view_module": "@jupyter-widgets/controls",
      "_view_module_version": "1.5.0",
      "_view_name": "HBoxView",
      "box_style": "",
      "children": [
       "IPY_MODEL_11b0022cfbaa488db010a2f22a17b7cc",
       "IPY_MODEL_015524419b8a4a21bec9ca2462a1bdae",
       "IPY_MODEL_351c280e3e0644e08478893632ca878c"
      ],
      "layout": "IPY_MODEL_9123a18088fb454d915218f37f72a790"
     }
    },
    "f986e194b4944ead94190797f28015fe": {
     "model_module": "@jupyter-widgets/controls",
     "model_module_version": "1.5.0",
     "model_name": "DescriptionStyleModel",
     "state": {
      "_model_module": "@jupyter-widgets/controls",
      "_model_module_version": "1.5.0",
      "_model_name": "DescriptionStyleModel",
      "_view_count": null,
      "_view_module": "@jupyter-widgets/base",
      "_view_module_version": "1.2.0",
      "_view_name": "StyleView",
      "description_width": ""
     }
    }
   }
  }
 },
 "nbformat": 4,
 "nbformat_minor": 4
}
