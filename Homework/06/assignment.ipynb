{
 "cells": [
  {
   "cell_type": "markdown",
   "id": "62858a31-a815-4724-bb2d-6a66450ad122",
   "metadata": {},
   "source": [
    "# Домашнее задание 6. Оценка LLM на классификационных задачах. \n",
    "\n",
    "Перед выполнением задания рекомендуем ознакомиться с этой [статьей](https://huggingface.co/blog/open-llm-leaderboard-mmlu).\n",
    "\n",
    "В этом задании вы будете работать с моделью `Qwen/Qwen2-0.5B` и частью датасета `cais/mmlu` - \"medical_genetics\"."
   ]
  },
  {
   "cell_type": "code",
   "execution_count": null,
   "id": "8d56a94a-80b5-4276-97cc-a4ec79f93e6e",
   "metadata": {},
   "outputs": [],
   "source": [
    "# При необходимости установим нужные зависимости\n",
    "#!pip install torch transformers datasets matplotlib"
   ]
  },
  {
   "cell_type": "code",
   "execution_count": null,
   "id": "54a45bff-dba6-431b-acdf-7860675d83ce",
   "metadata": {},
   "outputs": [],
   "source": [
    "import torch\n",
    "import torch.nn.functional as F\n",
    "from transformers import AutoModelForCausalLM, AutoTokenizer\n",
    "from datasets import load_dataset\n",
    "import matplotlib.pyplot as plt\n",
    "import pandas as pd\n",
    "from tqdm.auto import tqdm\n",
    "from sklearn.metrics import accuracy_score"
   ]
  },
  {
   "cell_type": "code",
   "execution_count": null,
   "id": "44c9ad0f-ef2d-463d-bbc8-78f37eeaf3dc",
   "metadata": {},
   "outputs": [],
   "source": [
    "model_name = \"Qwen/Qwen2-0.5B\"  # Можно заменить на другую модель\n",
    "tokenizer = AutoTokenizer.from_pretrained(model_name)\n",
    "model = AutoModelForCausalLM.from_pretrained(model_name)"
   ]
  },
  {
   "cell_type": "markdown",
   "id": "f0137a76-dd0d-44f5-b0b7-58351f08395a",
   "metadata": {},
   "source": [
    "## Загрузка датасета\n",
    "\n",
    "Загрузим наши данные. В датасете есть три части: \n",
    "* test\n",
    "* validation\n",
    "* dev\n",
    "\n",
    "Мы с вами будем использовать **test** для расчета метрик и **dev** для примеров в случае few-shot валидации. "
   ]
  },
  {
   "cell_type": "code",
   "execution_count": null,
   "id": "43e70b45-7ff9-4a36-810d-c6e0174ead38",
   "metadata": {},
   "outputs": [],
   "source": [
    "mmlu = load_dataset(\"cais/mmlu\", \"medical_genetics\")\n",
    "\n",
    "mmlu"
   ]
  },
  {
   "cell_type": "markdown",
   "id": "31c117fc-e370-4504-bc50-fd42968a5fa9",
   "metadata": {},
   "source": [
    "Выведем несколько примеров из датасета: "
   ]
  },
  {
   "cell_type": "code",
   "execution_count": null,
   "id": "7be7c59e-fce9-44bc-84cb-fd84b115bb60",
   "metadata": {},
   "outputs": [],
   "source": [
    "# Пример сэмпла из датасета\n",
    "print(\"Примеры из датасета:\")\n",
    "for i in range(2):\n",
    "    sample = mmlu['dev'][i]\n",
    "    print(f\"Subject: {sample['subject']}\")\n",
    "    print(f\"Question: {sample['question']}\")\n",
    "    print(f\"Choices: {sample['choices']}\")\n",
    "    print(f\"Answer: {sample['answer']}\\n\")"
   ]
  },
  {
   "cell_type": "markdown",
   "id": "742dc03b-a3f6-47e8-87db-992c4fb5b310",
   "metadata": {},
   "source": [
    "## Вспомогательные функции"
   ]
  },
  {
   "cell_type": "code",
   "execution_count": null,
   "id": "7ee2d3df-e458-43b8-9ae8-c0f09ebe0d13",
   "metadata": {},
   "outputs": [],
   "source": [
    "def get_model_logits(inputs: dict[str, torch.Tensor], model: AutoModelForCausalLM) -> torch.Tensor:\n",
    "    \"\"\"\n",
    "    Make forward pass for the model.\n",
    "\n",
    "    Args:\n",
    "        inputs dict(str, torch.Tensor): The inputs tensors after tokenization.\n",
    "        model (AutoModelForCausalLM): The language model used to generate logits.\n",
    "\n",
    "    Returns:\n",
    "        torch.Tensor: The logits output from the model.\n",
    "    \"\"\"\n",
    "    \n",
    "    # Получение логитов модели\n",
    "    with torch.no_grad():\n",
    "        outputs = model(**inputs)\n",
    "        logits = outputs.logits\n",
    "    \n",
    "    return logits"
   ]
  },
  {
   "cell_type": "markdown",
   "id": "7c4eba77-0810-4aae-86ad-bf8976d61a8d",
   "metadata": {},
   "source": [
    "# Имплементация функций для решения ДЗ"
   ]
  },
  {
   "cell_type": "markdown",
   "id": "3c0937c8-b20d-40c2-83d3-cd62dee609d8",
   "metadata": {},
   "source": [
    "### Сборка промптов\n",
    "\n",
    "\n",
    "Ваша задача написать реализацию в файле `collect_prompt.py`:\n",
    "\n",
    "\n",
    "**0-shot prompt. Функция `create_prompt(sample: dict) -> str:`**\n",
    "\n",
    "* Эта функция должна принимать на вход словарь sample, содержащий информацию о вопросе, предмете, вариантах ответов и индексе правильного ответа.\n",
    "* На выходе функция должна возвращать промпт по следующему формату:\n",
    "\n",
    "```\n",
    "The following are multiple choice questions (with answers) about {subject}.\n",
    "{question}\n",
    "A. {option_0}\n",
    "B. {option_1}\n",
    "C. {option_2}\n",
    "D. {option_3}\n",
    "Answer:\n",
    "```\n",
    "\n",
    "**Пример результата функции:**\n",
    "\n",
    "```\n",
    "The following are multiple choice questions (with answers) about medical_genetics.\n",
    "In a Robertsonian translocation fusion occurs at the:\n",
    "A. telomeres.\n",
    "B. centromeres.\n",
    "C. histones.\n",
    "D. ends of the long arms.\n",
    "Answer:\n",
    "```\n",
    "\n",
    "\n",
    "**5-shot prompt. Функция `create_prompt_with_examples(sample: dict, examples: list, add_full_example: bool = False) -> str:`**\n",
    "\n",
    "* Эта функция должна принимать на вход словарь sample, список из 5 примеров examples из части dev датасета и булевый параметр\n",
    "add_full_example.\n",
    "* Если параметр add_full_example установлен в True, то в каждом примере должно быть указано полное содержание правильного ответа. Это необходимо для двух вариантов валидации, которые будут рассмотрены далее\n",
    "* На выходе функция должна возвращать строку по следующему формату если `add_full_example=False`:\n",
    "\n",
    "```\n",
    "The following are multiple choice questions (with answers) about {subject}.\n",
    "{question}\n",
    "A. {option_0}\n",
    "B. {option_1}\n",
    "C. {option_2}\n",
    "D. {option_3}\n",
    "Answer: {letter_of_correct_option}\n",
    "\n",
    "<other examples...>\n",
    "\n",
    "The following are multiple choice questions (with answers) about {subject}.\n",
    "{question}\n",
    "A. {option_0}\n",
    "B. {option_1}\n",
    "C. {option_2}\n",
    "D. {option_3}\n",
    "Answer: \n",
    "```\n",
    "\n",
    "**Пример результата функции:** \n",
    "\n",
    "```\n",
    "The following are multiple choice questions (with answers) about medical_genetics.\n",
    "Large triplet repeat expansions can be detected by:\n",
    "A. polymerase chain reaction.\n",
    "B. single strand conformational polymorphism analysis.\n",
    "C. Southern blotting.\n",
    "D. Western blotting.\n",
    "Answer: C\n",
    "\n",
    "The following are multiple choice questions (with answers) about medical_genetics.\n",
    "DNA ligase is\n",
    "A. an enzyme that joins fragments in normal DNA replication\n",
    "B. an enzyme of bacterial origin which cuts DNA at defined base sequences\n",
    "C. an enzyme that facilitates transcription of specific genes\n",
    "D. an enzyme which limits the level to which a particular nutrient reaches\n",
    "Answer: A\n",
    "\n",
    "The following are multiple choice questions (with answers) about medical_genetics.\n",
    "A gene showing codominance\n",
    "A. has both alleles independently expressed in the heterozygote\n",
    "B. has one allele dominant to the other\n",
    "C. has alleles tightly linked on the same chromosome\n",
    "D. has alleles expressed at the same time in development\n",
    "Answer: A\n",
    "\n",
    "The following are multiple choice questions (with answers) about medical_genetics.\n",
    "Which of the following conditions does not show multifactorial inheritance?\n",
    "A. Pyloric stenosis\n",
    "B. Schizophrenia\n",
    "C. Spina bifida (neural tube defects)\n",
    "D. Marfan syndrome\n",
    "Answer: D\n",
    "\n",
    "The following are multiple choice questions (with answers) about medical_genetics.\n",
    "The stage of meiosis in which chromosomes pair and cross over is:\n",
    "A. prophase I\n",
    "B. metaphase I\n",
    "C. prophase II\n",
    "D. metaphase II\n",
    "Answer: A\n",
    "\n",
    "The following are multiple choice questions (with answers) about medical_genetics.\n",
    "In a Robertsonian translocation fusion occurs at the:\n",
    "A. telomeres.\n",
    "B. centromeres.\n",
    "C. histones.\n",
    "D. ends of the long arms.\n",
    "Answer:\n",
    "```\n",
    "\n",
    "\n",
    "* На выходе функция должна возвращать строку по следующему формату если `add_full_example=True`:\n",
    "\n",
    "```\n",
    "The following are multiple choice questions (with answers) about {subject}.\n",
    "{question}\n",
    "A. {option_0}\n",
    "B. {option_1}\n",
    "C. {option_2}\n",
    "D. {option_3}\n",
    "Answer: {letter_of_correct_option}. {correct_option}\n",
    "\n",
    "<other examples...>\n",
    "\n",
    "The following are multiple choice questions (with answers) about {subject}.\n",
    "{question}\n",
    "A. {option_0}\n",
    "B. {option_1}\n",
    "C. {option_2}\n",
    "D. {option_3}\n",
    "Answer: \n",
    "```\n",
    "\n",
    "Единственное отличие в этом случае в том, что после `Answer` вставляется не одна буква, а весь вариант ответа. \n",
    "\n",
    "**Пример результата функции:** \n",
    "\n",
    "```\n",
    "The following are multiple choice questions (with answers) about medical_genetics.\n",
    "Large triplet repeat expansions can be detected by:\n",
    "A. polymerase chain reaction.\n",
    "B. single strand conformational polymorphism analysis.\n",
    "C. Southern blotting.\n",
    "D. Western blotting.\n",
    "Answer: C. Southern blotting.\n",
    "\n",
    "The following are multiple choice questions (with answers) about medical_genetics.\n",
    "DNA ligase is\n",
    "A. an enzyme that joins fragments in normal DNA replication\n",
    "B. an enzyme of bacterial origin which cuts DNA at defined base sequences\n",
    "C. an enzyme that facilitates transcription of specific genes\n",
    "D. an enzyme which limits the level to which a particular nutrient reaches\n",
    "Answer: A. an enzyme that joins fragments in normal DNA replication\n",
    "\n",
    "The following are multiple choice questions (with answers) about medical_genetics.\n",
    "A gene showing codominance\n",
    "A. has both alleles independently expressed in the heterozygote\n",
    "B. has one allele dominant to the other\n",
    "C. has alleles tightly linked on the same chromosome\n",
    "D. has alleles expressed at the same time in development\n",
    "Answer: A. has both alleles independently expressed in the heterozygote\n",
    "\n",
    "The following are multiple choice questions (with answers) about medical_genetics.\n",
    "Which of the following conditions does not show multifactorial inheritance?\n",
    "A. Pyloric stenosis\n",
    "B. Schizophrenia\n",
    "C. Spina bifida (neural tube defects)\n",
    "D. Marfan syndrome\n",
    "Answer: D. Marfan syndrome\n",
    "\n",
    "The following are multiple choice questions (with answers) about medical_genetics.\n",
    "The stage of meiosis in which chromosomes pair and cross over is:\n",
    "A. prophase I\n",
    "B. metaphase I\n",
    "C. prophase II\n",
    "D. metaphase II\n",
    "Answer: A. prophase I\n",
    "\n",
    "The following are multiple choice questions (with answers) about medical_genetics.\n",
    "In a Robertsonian translocation fusion occurs at the:\n",
    "A. telomeres.\n",
    "B. centromeres.\n",
    "C. histones.\n",
    "D. ends of the long arms.\n",
    "Answer:\n",
    "```"
   ]
  },
  {
   "cell_type": "markdown",
   "id": "f8c73b20-2c28-4d5f-b663-e36bf702bcbc",
   "metadata": {},
   "source": [
    "### Получение предсказаний\n",
    "\n",
    "Ваша задача написать реализацию в файле `get_predictions.py`:\n",
    "\n",
    "**Token ID. Функция `predict_by_token_id(logits: torch.Tensor, tokenizer: AutoTokenizer) -> int:`**\n",
    "\n",
    "* Функция определяет предсказанный выбор на основе логитов, полученных от модели.\n",
    "* Параметры:\n",
    "  * `logits` — логиты, полученные от модели, обычно имеют размерность `(1, sequence_length, vocab_size)`. Эти логиты представляют собой необработанные предсказания модели до применения любой функции активации, такой как softmax.\n",
    "  * `tokenizer` — токенизатор, используемый для кодирования входной последовательности.\n",
    "\n",
    "Указания:\n",
    "* Получите логиты для последнего токена, предполагая, что он соответствует токену ответа.\n",
    "* Используйте токенизатор для кодирования вариантов ['A', 'B', 'C', 'D'] без добавления специальных токенов.\n",
    "* Определите предсказанный класс как индекс максимального значения логита.\n",
    "\n",
    "**Continuation. Функция `get_choice_log_probs(logits: torch.Tensor, input_ids: torch.Tensor) -> float:`**\n",
    "\n",
    "* Функция вычисляет среднее значение логарифмов вероятностей предсказанных токенов для заданной последовательности.\n",
    "* Параметры:\n",
    "    *  `logits` — логиты, сгенерированных моделью, размерностью (batch_size, sequence_length, vocab_size). Логиты представляют собой необработанные предсказания модели до применения функции softmax.\n",
    "    *  `input_ids` содержит фактические токены, которые были поданы на вход модели, размерностью (batch_size, sequence_length)\n",
    "\n",
    "Указания: \n",
    "* Используйте функцию torch.nn.functional.log_softmax для преобразования логитов в логарифмы вероятностей.\n",
    "* Учтите, что модель предсказывает следующий токен, поэтому необходимо сдвинуть input_ids и logits, чтобы правильно сопоставить их.\n",
    "* Можно использовать torch.gather для извлечения логарифмов вероятностей, соответствующих фактическим токенам в input_ids, но можно воспользоваться любым другим способом"
   ]
  },
  {
   "cell_type": "markdown",
   "id": "28be0fab-849e-47ea-bc6c-5306abf271e2",
   "metadata": {},
   "source": [
    "### Импорт реализованных функций"
   ]
  },
  {
   "cell_type": "code",
   "execution_count": null,
   "id": "e480a927-db68-4ca6-a5cc-b60236176788",
   "metadata": {},
   "outputs": [],
   "source": [
    "from get_predictions import predict_by_token_id, get_choice_log_probs\n",
    "from collect_prompt import create_prompt, create_prompt_with_examples"
   ]
  },
  {
   "cell_type": "markdown",
   "id": "86028f54-5112-40d4-875e-3c75869a10bf",
   "metadata": {},
   "source": [
    "# 0-shot валидация"
   ]
  },
  {
   "cell_type": "markdown",
   "id": "726aea71-1d73-41c3-af67-a4a2f71c54e7",
   "metadata": {},
   "source": [
    "### Предсказание класса по индексу соответствующего варианта"
   ]
  },
  {
   "cell_type": "code",
   "execution_count": null,
   "id": "4c5e355d-2c92-4208-88ad-3f1ced6ab6ac",
   "metadata": {},
   "outputs": [],
   "source": [
    "predictions = []\n",
    "correct_answers = [sample['answer'] for sample in mmlu['test']]\n",
    "\n",
    "for sample in tqdm(mmlu['test'], desc=\"Processing prompts\"):\n",
    "    prompt = create_prompt(sample)\n",
    "    inputs = tokenizer(prompt, return_tensors='pt') \n",
    "    \n",
    "    # Получение логитов модели\n",
    "    logits = get_model_logits(inputs, model)\n",
    "    \n",
    "    # Определение предсказания\n",
    "    predicted_choice = predict_by_token_id(logits, tokenizer)\n",
    "    predictions.append(predicted_choice)"
   ]
  },
  {
   "cell_type": "code",
   "execution_count": null,
   "id": "7a25c452-ddee-487f-a496-88aee82a6d4c",
   "metadata": {},
   "outputs": [],
   "source": [
    "# Расчет accuracy с использованием sklearn\n",
    "accuracy_zero_shot = accuracy_score(correct_answers, predictions)\n",
    "print(f\"Accuracy: {accuracy_zero_shot:.3f}\")"
   ]
  },
  {
   "cell_type": "markdown",
   "id": "4b2fc2f2-7bbd-4ff1-9032-e4e5465d0065",
   "metadata": {},
   "source": [
    "### Предсказание класса по среднему лог вероятностей"
   ]
  },
  {
   "cell_type": "code",
   "execution_count": null,
   "id": "6f2cfef9-6ea2-4d21-b969-05877c67d2ae",
   "metadata": {},
   "outputs": [],
   "source": [
    "predictions = []\n",
    "correct_answers = [sample['answer'] for sample in mmlu['test']]\n",
    "\n",
    "for sample in tqdm(mmlu['test'], desc=\"Processing prompts\"):\n",
    "    base_prompt = create_prompt(sample)\n",
    "    choice_log_probs = []\n",
    "\n",
    "    for choice, letter in zip(sample['choices'], [\"A\", \"B\", \"C\", \"D\"]):\n",
    "        # Создание полного текста для каждого варианта\n",
    "        full_prompt = base_prompt + f\" {letter}. {choice}\"\n",
    "        inputs = tokenizer(full_prompt, return_tensors='pt') \n",
    "        \n",
    "        # Получение логитов модели\n",
    "        logits = get_model_logits(inputs, model)\n",
    "        \n",
    "        # Получение среднего логарифмов вероятностей\n",
    "        choice_log_prob = get_choice_log_probs(logits, inputs['input_ids'])\n",
    "        choice_log_probs.append(choice_log_prob)\n",
    "    \n",
    "    # Определение предсказания как индекс максимального среднего логарифмов вероятностей\n",
    "    predicted_choice = choice_log_probs.index(max(choice_log_probs))\n",
    "    predictions.append(predicted_choice)"
   ]
  },
  {
   "cell_type": "code",
   "execution_count": null,
   "id": "ac81f5de-af2a-4e16-8cb6-4bf1e82e9894",
   "metadata": {},
   "outputs": [],
   "source": [
    "accuracy_zero_shot_continuation = accuracy_score(correct_answers, predictions)\n",
    "print(f\"Accuracy: {accuracy_zero_shot_continuation:.3f}\")"
   ]
  },
  {
   "cell_type": "markdown",
   "id": "6ca572dc-2f15-4ce0-bd44-8fa99c80b9e6",
   "metadata": {},
   "source": [
    "# 5-shot валидация"
   ]
  },
  {
   "cell_type": "markdown",
   "id": "96680bf2-becd-4d5e-953b-6c97cb9e6608",
   "metadata": {},
   "source": [
    "### Предсказание класса по индексу соответствующего варианта"
   ]
  },
  {
   "cell_type": "code",
   "execution_count": null,
   "id": "8324f56a-d86f-4322-9eea-9b7b5058592a",
   "metadata": {},
   "outputs": [],
   "source": [
    "predictions = []\n",
    "correct_answers = [sample['answer'] for sample in mmlu['test']]\n",
    "\n",
    "for sample in tqdm(mmlu['test'], desc=\"Processing prompts\"):\n",
    "    prompt = create_prompt_with_examples(sample, mmlu['dev'])\n",
    "    inputs = tokenizer(prompt, return_tensors='pt') \n",
    "    # Получение логитов модели\n",
    "    logits = get_model_logits(inputs, model)\n",
    "    \n",
    "    # Определение предсказания\n",
    "    predicted_choice = predict_by_token_id(logits, tokenizer)\n",
    "    predictions.append(predicted_choice)"
   ]
  },
  {
   "cell_type": "code",
   "execution_count": null,
   "id": "06e46ab7-1146-4e79-b08d-9015b9b4aa3f",
   "metadata": {},
   "outputs": [],
   "source": [
    "accuracy_five_shot = accuracy_score(correct_answers, predictions)\n",
    "print(f\"Accuracy: {accuracy_five_shot:.3f}\")"
   ]
  },
  {
   "cell_type": "markdown",
   "id": "001cb3f0-43b4-4d79-8304-4109074f9ffc",
   "metadata": {},
   "source": [
    "### Предсказание класса по среднему лог вероятностей"
   ]
  },
  {
   "cell_type": "code",
   "execution_count": null,
   "id": "4732cac2-37af-4344-ae84-db2f19e06e66",
   "metadata": {},
   "outputs": [],
   "source": [
    "predictions = []\n",
    "correct_answers = [sample['answer'] for sample in mmlu['test']]\n",
    "\n",
    "for sample in tqdm(mmlu['test'], desc=\"Processing prompts\"):\n",
    "    base_prompt = create_prompt_with_examples(sample, mmlu['dev'], add_full_example=True)\n",
    "    choice_log_probs = []\n",
    "\n",
    "    for choice, letter in zip(sample['choices'], [\"A\", \"B\", \"C\", \"D\"]):\n",
    "        # Создание полного текста для каждого варианта\n",
    "        full_prompt = base_prompt + f\" {letter}. {choice}\"\n",
    "        inputs = tokenizer(full_prompt, return_tensors='pt') \n",
    "        \n",
    "        # Получение логитов модели\n",
    "        logits = get_model_logits(inputs, model)\n",
    "        \n",
    "        # Получение суммы логарифмов вероятностей\n",
    "        choice_log_prob = get_choice_log_probs(logits, inputs['input_ids'])\n",
    "        choice_log_probs.append(choice_log_prob)\n",
    "    \n",
    "    # Определение предсказания как индекс максимальной суммы логарифмов вероятностей\n",
    "    predicted_choice = choice_log_probs.index(max(choice_log_probs))\n",
    "    predictions.append(predicted_choice)"
   ]
  },
  {
   "cell_type": "code",
   "execution_count": null,
   "id": "c1e2d572-e4ab-4b36-a982-7f0bded36732",
   "metadata": {},
   "outputs": [],
   "source": [
    "accuracy_five_shot_continuation = accuracy_score(correct_answers, predictions)\n",
    "print(f\"Accuracy: {accuracy_five_shot_continuation:.3f}\")"
   ]
  },
  {
   "cell_type": "markdown",
   "id": "0925ceaf-623e-4bbc-a179-dc5ea53ad3e0",
   "metadata": {},
   "source": [
    "# Сравнение результатов"
   ]
  },
  {
   "cell_type": "code",
   "execution_count": null,
   "id": "8aab56c0-44f8-4503-a65f-2c7dd1ee99f1",
   "metadata": {},
   "outputs": [],
   "source": [
    "results = pd.DataFrame(\n",
    "    [\n",
    "        ['0-shot', accuracy_zero_shot],\n",
    "        ['0-shot continuation', accuracy_zero_shot_continuation],\n",
    "        ['5-shot', accuracy_five_shot],\n",
    "        ['5-shot continuation', accuracy_five_shot_continuation]\n",
    "    ],\n",
    "    columns = ['method', 'accuracy']\n",
    ")\n",
    "\n",
    "results"
   ]
  },
  {
   "cell_type": "code",
   "execution_count": null,
   "id": "85cacbc9-8975-4b83-8438-bbab342b6993",
   "metadata": {},
   "outputs": [],
   "source": []
  }
 ],
 "metadata": {
  "kernelspec": {
   "display_name": "Python 3 (ipykernel)",
   "language": "python",
   "name": "python3"
  },
  "language_info": {
   "codemirror_mode": {
    "name": "ipython",
    "version": 3
   },
   "file_extension": ".py",
   "mimetype": "text/x-python",
   "name": "python",
   "nbconvert_exporter": "python",
   "pygments_lexer": "ipython3",
   "version": "3.11.9"
  }
 },
 "nbformat": 4,
 "nbformat_minor": 5
}
