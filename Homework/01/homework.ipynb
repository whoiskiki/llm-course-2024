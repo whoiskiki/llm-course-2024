{
 "cells": [
  {
   "cell_type": "code",
   "execution_count": null,
   "id": "3bae632e",
   "metadata": {},
   "outputs": [],
   "source": [
    "import pandas as pd\n",
    "import numpy as np\n",
    "import random\n",
    "import torch\n",
    "import torch.nn as nn\n",
    "import torch.nn.functional as F\n",
    "import re\n",
    "import time\n",
    "from torch.utils.data import Dataset, DataLoader\n",
    "from tqdm import tqdm\n",
    "from collections import Counter\n",
    "from IPython.display import clear_output\n",
    "\n",
    "from scripts import BpeTokenizer, Model, Trainer, Collator, MyDataset, generate"
   ]
  },
  {
   "cell_type": "markdown",
   "id": "fbf920c8",
   "metadata": {},
   "source": [
    "# Загружаем данные"
   ]
  },
  {
   "cell_type": "code",
   "execution_count": null,
   "id": "62c4b8e1",
   "metadata": {
    "scrolled": true
   },
   "outputs": [],
   "source": [
    "df = pd.read_csv('data/dataset.csv')\n",
    "train_texts = df['text'][:-1024].tolist()\n",
    "eval_texts = df['text'][-1024:].tolist()"
   ]
  },
  {
   "cell_type": "markdown",
   "id": "1185cbdb",
   "metadata": {},
   "source": [
    "# Инициализируем и обучаем токенизатор"
   ]
  },
  {
   "cell_type": "code",
   "execution_count": null,
   "id": "c2faf407",
   "metadata": {},
   "outputs": [],
   "source": [
    "tokenizer = BpeTokenizer()"
   ]
  },
  {
   "cell_type": "code",
   "execution_count": null,
   "id": "deecd0e9",
   "metadata": {},
   "outputs": [],
   "source": [
    "tokenizer.train(train_texts[:2048], max_vocab=2048)"
   ]
  },
  {
   "cell_type": "markdown",
   "id": "a4388757",
   "metadata": {},
   "source": [
    "# Создаем датасеты и Collator"
   ]
  },
  {
   "cell_type": "code",
   "execution_count": null,
   "id": "5a41f636",
   "metadata": {},
   "outputs": [],
   "source": [
    "train_dataset = MyDataset(train_texts, tokenizer, max_length=128)\n",
    "eval_dataset = MyDataset(eval_texts, tokenizer, max_length=128)\n",
    "collator = Collator(tokenizer.pad_token_id)"
   ]
  },
  {
   "cell_type": "markdown",
   "id": "6f1d558d",
   "metadata": {},
   "source": [
    "# Создаем модель"
   ]
  },
  {
   "cell_type": "code",
   "execution_count": null,
   "id": "6bbf25b3",
   "metadata": {},
   "outputs": [],
   "source": [
    "torch.manual_seed(42)\n",
    "np.random.seed(42)\n",
    "random.seed(42)"
   ]
  },
  {
   "cell_type": "code",
   "execution_count": null,
   "id": "96a9378a",
   "metadata": {},
   "outputs": [],
   "source": [
    "model = Model(tokenizer.get_vocab_size(), emb_size=128, hidden_size=256, num_layers=2, dropout=0.1)"
   ]
  },
  {
   "cell_type": "markdown",
   "id": "58ee6385",
   "metadata": {},
   "source": [
    "# Создаем Trainer и запускаем обучение"
   ]
  },
  {
   "cell_type": "code",
   "execution_count": null,
   "id": "08145518",
   "metadata": {},
   "outputs": [],
   "source": [
    "trainer = Trainer(\n",
    "    model=model,\n",
    "    train_dataset=train_dataset,\n",
    "    eval_dataset=eval_dataset,\n",
    "    n_epochs=8,\n",
    "    train_batch_size=32,\n",
    "    eval_batch_size=32,\n",
    "    eval_steps=64,\n",
    "    collator=collator,\n",
    "    lr=1e-2,\n",
    "    ignore_index=tokenizer.pad_token_id\n",
    ")"
   ]
  },
  {
   "cell_type": "code",
   "execution_count": null,
   "id": "57b36087",
   "metadata": {},
   "outputs": [],
   "source": [
    "trainer.train()"
   ]
  },
  {
   "cell_type": "markdown",
   "id": "0b4b73df",
   "metadata": {},
   "source": [
    "# Оцениваем качество и проверяем жадную и случайную генерацию"
   ]
  },
  {
   "cell_type": "code",
   "execution_count": null,
   "id": "88155ce6",
   "metadata": {},
   "outputs": [],
   "source": [
    "trainer.evaluate()"
   ]
  },
  {
   "cell_type": "code",
   "execution_count": null,
   "id": "e9299f79",
   "metadata": {},
   "outputs": [],
   "source": [
    "generate(model, tokenizer, temperature=0)"
   ]
  },
  {
   "cell_type": "code",
   "execution_count": null,
   "id": "441e4368",
   "metadata": {},
   "outputs": [],
   "source": [
    "generate(model, tokenizer, temperature=0.5, top_k=20)"
   ]
  }
 ],
 "metadata": {
  "kernelspec": {
   "display_name": "Python 3 (ipykernel)",
   "language": "python",
   "name": "python3"
  },
  "language_info": {
   "codemirror_mode": {
    "name": "ipython",
    "version": 3
   },
   "file_extension": ".py",
   "mimetype": "text/x-python",
   "name": "python",
   "nbconvert_exporter": "python",
   "pygments_lexer": "ipython3",
   "version": "3.11.3"
  }
 },
 "nbformat": 4,
 "nbformat_minor": 5
}
